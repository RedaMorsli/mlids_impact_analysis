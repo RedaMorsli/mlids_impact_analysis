{
 "cells": [
  {
   "cell_type": "markdown",
   "source": [
    "Method 1"
   ],
   "metadata": {
    "collapsed": false
   }
  },
  {
   "cell_type": "code",
   "execution_count": 6,
   "outputs": [],
   "source": [
    "import pandas as pd"
   ],
   "metadata": {
    "collapsed": false,
    "ExecuteTime": {
     "end_time": "2024-04-22T21:07:46.064971300Z",
     "start_time": "2024-04-22T21:07:46.049975700Z"
    }
   }
  },
  {
   "cell_type": "code",
   "execution_count": 7,
   "metadata": {
    "collapsed": true,
    "ExecuteTime": {
     "end_time": "2024-04-22T21:08:20.718123900Z",
     "start_time": "2024-04-22T21:07:47.090483200Z"
    }
   },
   "outputs": [
    {
     "name": "stderr",
     "output_type": "stream",
     "text": [
      "C:\\Users\\hr_mo\\AppData\\Local\\Temp\\ipykernel_22868\\3061153350.py:28: SettingWithCopyWarning: \n",
      "A value is trying to be set on a copy of a slice from a DataFrame\n",
      "\n",
      "See the caveats in the documentation: https://pandas.pydata.org/pandas-docs/stable/user_guide/indexing.html#returning-a-view-versus-a-copy\n",
      "  attack_df.drop(columns=single_value_cols, inplace=True)\n"
     ]
    },
    {
     "name": "stdout",
     "output_type": "stream",
     "text": [
      "Merged dataset saved successfully.\n",
      "(425649, 71)\n",
      "(42899, 70)\n",
      "class                    2\n",
      "dst_port             19506\n",
      "protocol                 2\n",
      "timestamp            26378\n",
      "flow_duration       226991\n",
      "                     ...  \n",
      "subflow_bwd_pkts       237\n",
      "subflow_fwd_byts     12517\n",
      "subflow_bwd_byts     12241\n",
      "cpu                   3844\n",
      "attack_type              5\n",
      "Length: 71, dtype: int64\n"
     ]
    }
   ],
   "source": [
    "df_bf = pd.read_csv('./output/BruteForce/21-03-2024-3h/data1_splitted.csv')\n",
    "df_ddos = pd.read_csv('./output/DDOS/data1.csv')\n",
    "df_dos1 = pd.read_csv('./output/DOS/16-02/data1.csv')\n",
    "df_dos2 = pd.read_csv('./output/DOS/15-02/data1.csv')\n",
    "df_web = pd.read_csv('./output/SQLI-BFXSS/data1.csv')\n",
    "\n",
    "# Add a new column indicating the source dataset\n",
    "df_bf['attack_type'] = 1\n",
    "df_ddos['attack_type'] = 2\n",
    "df_dos1['attack_type'] = 3\n",
    "df_dos2['attack_type'] = 3\n",
    "df_web['attack_type'] = 4\n",
    "\n",
    "# Concatenate all dataframes into one\n",
    "merged_df = pd.concat([df_bf, df_ddos, df_dos1, df_dos2, df_web])\n",
    "merged_df.loc[merged_df['class'] == 0, 'attack_type'] = 0\n",
    "\n",
    "# Keep only rows where the \"class\" label is set to 1\n",
    "attack_df = merged_df[merged_df['class'] > 0]\n",
    "\n",
    "# Reset index\n",
    "merged_df.reset_index(drop=True, inplace=True)\n",
    "\n",
    "# Removing single col values\n",
    "single_value_cols = [col for col in merged_df.columns if merged_df[col].nunique()<2]\n",
    "merged_df.drop(columns=single_value_cols, inplace=True)\n",
    "single_value_cols = [col for col in attack_df.columns if attack_df[col].nunique()<2]\n",
    "attack_df.drop(columns=single_value_cols, inplace=True)\n",
    "\n",
    "# Save the merged dataframe to a new CSV file\n",
    "merged_df.to_csv('./output/merged_dataset_method1.csv', index=False)\n",
    "attack_df.to_csv('./output/merged_attack_dataset_method1.csv', index=False)\n",
    "\n",
    "print(\"Merged dataset saved successfully.\")\n",
    "print(merged_df.shape)\n",
    "print(attack_df.shape)\n",
    "# Set display options to show all columns\n",
    "pd.set_option('display.max_columns', None)\n",
    "print(merged_df.nunique())"
   ]
  },
  {
   "cell_type": "markdown",
   "source": [
    "Method 2"
   ],
   "metadata": {
    "collapsed": false
   }
  },
  {
   "cell_type": "code",
   "execution_count": 8,
   "outputs": [
    {
     "name": "stderr",
     "output_type": "stream",
     "text": [
      "C:\\Users\\hr_mo\\AppData\\Local\\Temp\\ipykernel_22868\\488326285.py:34: SettingWithCopyWarning: \n",
      "A value is trying to be set on a copy of a slice from a DataFrame\n",
      "\n",
      "See the caveats in the documentation: https://pandas.pydata.org/pandas-docs/stable/user_guide/indexing.html#returning-a-view-versus-a-copy\n",
      "  attack_df.drop(columns=single_value_cols, inplace=True)\n"
     ]
    },
    {
     "name": "stdout",
     "output_type": "stream",
     "text": [
      "Merged dataset saved successfully.\n",
      "(22784, 76)\n",
      "(2355, 76)\n"
     ]
    }
   ],
   "source": [
    "df_bf = pd.read_csv('./output/BruteForce/21-03-2024-3h/data2_splitted.csv')\n",
    "df_ddos = pd.read_csv('./output/DDOS/data2.csv')\n",
    "df_dos1 = pd.read_csv('./output/DOS/16-02/data2.csv')\n",
    "df_dos2 = pd.read_csv('./output/DOS/15-02/data2.csv')\n",
    "df_web = pd.read_csv('./output/SQLI-BFXSS/data2.csv')\n",
    "\n",
    "# Add a new column indicating the source dataset\n",
    "df_bf['attack_type'] = 1\n",
    "df_ddos['attack_type'] = 2\n",
    "df_dos1['attack_type'] = 3\n",
    "df_dos2['attack_type'] = 3\n",
    "df_web['attack_type'] = 4\n",
    "\n",
    "# Concatenate all dataframes into one\n",
    "merged_df = pd.concat([df_bf, df_ddos, df_dos1, df_dos2, df_web])\n",
    "merged_df.loc[merged_df['class'] == 0, 'attack_type'] = 0\n",
    "\n",
    "# Remove samples with no flows\n",
    "merged_df = merged_df[merged_df['num_flows'] != 0]\n",
    "\n",
    "# Create benign flows column\n",
    "merged_df['benign_flows'] = merged_df['num_flows'] - merged_df['class']\n",
    "\n",
    "# Keep only rows where the \"class\" label is set to 1\n",
    "attack_df = merged_df[merged_df['class'] > 0]\n",
    "\n",
    "# Reset index\n",
    "merged_df.reset_index(drop=True, inplace=True)\n",
    "\n",
    "# Removing single col values\n",
    "single_value_cols = [col for col in merged_df.columns if merged_df[col].nunique()<2]\n",
    "merged_df.drop(columns=single_value_cols, inplace=True)\n",
    "single_value_cols = [col for col in attack_df.columns if attack_df[col].nunique()<2]\n",
    "attack_df.drop(columns=single_value_cols, inplace=True)\n",
    "\n",
    "# Save the merged dataframe to a new CSV file\n",
    "merged_df.to_csv('./output/merged_dataset_method2.csv', index=False)\n",
    "attack_df.to_csv('./output/merged_attack_dataset_method2.csv', index=False)\n",
    "\n",
    "print(\"Merged dataset saved successfully.\")\n",
    "print(merged_df.shape)\n",
    "print(attack_df.shape)"
   ],
   "metadata": {
    "collapsed": false,
    "ExecuteTime": {
     "end_time": "2024-04-22T21:11:22.823207700Z",
     "start_time": "2024-04-22T21:11:19.479908400Z"
    }
   }
  },
  {
   "cell_type": "code",
   "execution_count": 3,
   "outputs": [],
   "source": [],
   "metadata": {
    "collapsed": false,
    "ExecuteTime": {
     "end_time": "2024-04-17T17:07:46.674760500Z",
     "start_time": "2024-04-17T17:07:46.605487400Z"
    }
   }
  }
 ],
 "metadata": {
  "kernelspec": {
   "display_name": "Python 3",
   "language": "python",
   "name": "python3"
  },
  "language_info": {
   "codemirror_mode": {
    "name": "ipython",
    "version": 2
   },
   "file_extension": ".py",
   "mimetype": "text/x-python",
   "name": "python",
   "nbconvert_exporter": "python",
   "pygments_lexer": "ipython2",
   "version": "2.7.6"
  }
 },
 "nbformat": 4,
 "nbformat_minor": 0
}

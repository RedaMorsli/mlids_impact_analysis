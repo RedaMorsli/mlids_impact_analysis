{
 "cells": [
  {
   "cell_type": "markdown",
   "source": [
    "Setup"
   ],
   "metadata": {
    "collapsed": false
   }
  },
  {
   "cell_type": "code",
   "execution_count": 7,
   "metadata": {
    "ExecuteTime": {
     "end_time": "2024-04-02T07:08:14.948020900Z",
     "start_time": "2024-04-02T07:08:14.480542700Z"
    }
   },
   "outputs": [
    {
     "name": "stdout",
     "output_type": "stream",
     "text": [
      "(28416, 80)\n"
     ]
    },
    {
     "data": {
      "text/plain": "  class  dst_port  protocol            timestamp  flow_duration   flow_byts_s  \\\n0   [0]     58270         6  2024-03-29 05:35:10   30126.810074  1.394107e+04   \n1   [0]     45010         6  2024-03-29 05:35:11   30352.115631  1.601206e+04   \n2   [0]     58286         6  2024-03-29 05:35:11   30293.226242  1.604319e+04   \n3   [0]     10249         6  2024-03-29 05:35:13      78.678131  1.626882e+06   \n4   [0]      2381         6  2024-03-29 05:35:14      76.293945  1.677722e+06   \n\n    flow_pkts_s    fwd_pkts_s    bwd_pkts_s  tot_fwd_pkts  ...  \\\n0    199.158158    132.772105     66.386053             4  ...   \n1    230.626428    131.786530     98.839898             4  ...   \n2    231.074761    132.042720     99.032040             4  ...   \n3  25420.024242  12710.012121  12710.012121             1  ...   \n4  26214.400000  13107.200000  13107.200000             1  ...   \n\n   bwd_pkts_b_avg  fwd_blk_rate_avg  bwd_blk_rate_avg  fwd_seg_size_avg  \\\n0             0.0               0.0               0.0              66.0   \n1             0.0               0.0               0.0              66.0   \n2             0.0               0.0               0.0              66.0   \n3             0.0               0.0               0.0              74.0   \n4             0.0               0.0               0.0              74.0   \n\n   bwd_seg_size_avg  cwe_flag_count  subflow_fwd_pkts  subflow_bwd_pkts  \\\n0              78.0               0                 4                 2   \n1              74.0               0                 4                 3   \n2              74.0               0                 4                 3   \n3              54.0               0                 1                 1   \n4              54.0               0                 1                 1   \n\n   subflow_fwd_byts  subflow_bwd_byts  \n0               264               156  \n1               264               222  \n2               264               222  \n3                74                54  \n4                74                54  \n\n[5 rows x 80 columns]",
      "text/html": "<div>\n<style scoped>\n    .dataframe tbody tr th:only-of-type {\n        vertical-align: middle;\n    }\n\n    .dataframe tbody tr th {\n        vertical-align: top;\n    }\n\n    .dataframe thead th {\n        text-align: right;\n    }\n</style>\n<table border=\"1\" class=\"dataframe\">\n  <thead>\n    <tr style=\"text-align: right;\">\n      <th></th>\n      <th>class</th>\n      <th>dst_port</th>\n      <th>protocol</th>\n      <th>timestamp</th>\n      <th>flow_duration</th>\n      <th>flow_byts_s</th>\n      <th>flow_pkts_s</th>\n      <th>fwd_pkts_s</th>\n      <th>bwd_pkts_s</th>\n      <th>tot_fwd_pkts</th>\n      <th>...</th>\n      <th>bwd_pkts_b_avg</th>\n      <th>fwd_blk_rate_avg</th>\n      <th>bwd_blk_rate_avg</th>\n      <th>fwd_seg_size_avg</th>\n      <th>bwd_seg_size_avg</th>\n      <th>cwe_flag_count</th>\n      <th>subflow_fwd_pkts</th>\n      <th>subflow_bwd_pkts</th>\n      <th>subflow_fwd_byts</th>\n      <th>subflow_bwd_byts</th>\n    </tr>\n  </thead>\n  <tbody>\n    <tr>\n      <th>0</th>\n      <td>[0]</td>\n      <td>58270</td>\n      <td>6</td>\n      <td>2024-03-29 05:35:10</td>\n      <td>30126.810074</td>\n      <td>1.394107e+04</td>\n      <td>199.158158</td>\n      <td>132.772105</td>\n      <td>66.386053</td>\n      <td>4</td>\n      <td>...</td>\n      <td>0.0</td>\n      <td>0.0</td>\n      <td>0.0</td>\n      <td>66.0</td>\n      <td>78.0</td>\n      <td>0</td>\n      <td>4</td>\n      <td>2</td>\n      <td>264</td>\n      <td>156</td>\n    </tr>\n    <tr>\n      <th>1</th>\n      <td>[0]</td>\n      <td>45010</td>\n      <td>6</td>\n      <td>2024-03-29 05:35:11</td>\n      <td>30352.115631</td>\n      <td>1.601206e+04</td>\n      <td>230.626428</td>\n      <td>131.786530</td>\n      <td>98.839898</td>\n      <td>4</td>\n      <td>...</td>\n      <td>0.0</td>\n      <td>0.0</td>\n      <td>0.0</td>\n      <td>66.0</td>\n      <td>74.0</td>\n      <td>0</td>\n      <td>4</td>\n      <td>3</td>\n      <td>264</td>\n      <td>222</td>\n    </tr>\n    <tr>\n      <th>2</th>\n      <td>[0]</td>\n      <td>58286</td>\n      <td>6</td>\n      <td>2024-03-29 05:35:11</td>\n      <td>30293.226242</td>\n      <td>1.604319e+04</td>\n      <td>231.074761</td>\n      <td>132.042720</td>\n      <td>99.032040</td>\n      <td>4</td>\n      <td>...</td>\n      <td>0.0</td>\n      <td>0.0</td>\n      <td>0.0</td>\n      <td>66.0</td>\n      <td>74.0</td>\n      <td>0</td>\n      <td>4</td>\n      <td>3</td>\n      <td>264</td>\n      <td>222</td>\n    </tr>\n    <tr>\n      <th>3</th>\n      <td>[0]</td>\n      <td>10249</td>\n      <td>6</td>\n      <td>2024-03-29 05:35:13</td>\n      <td>78.678131</td>\n      <td>1.626882e+06</td>\n      <td>25420.024242</td>\n      <td>12710.012121</td>\n      <td>12710.012121</td>\n      <td>1</td>\n      <td>...</td>\n      <td>0.0</td>\n      <td>0.0</td>\n      <td>0.0</td>\n      <td>74.0</td>\n      <td>54.0</td>\n      <td>0</td>\n      <td>1</td>\n      <td>1</td>\n      <td>74</td>\n      <td>54</td>\n    </tr>\n    <tr>\n      <th>4</th>\n      <td>[0]</td>\n      <td>2381</td>\n      <td>6</td>\n      <td>2024-03-29 05:35:14</td>\n      <td>76.293945</td>\n      <td>1.677722e+06</td>\n      <td>26214.400000</td>\n      <td>13107.200000</td>\n      <td>13107.200000</td>\n      <td>1</td>\n      <td>...</td>\n      <td>0.0</td>\n      <td>0.0</td>\n      <td>0.0</td>\n      <td>74.0</td>\n      <td>54.0</td>\n      <td>0</td>\n      <td>1</td>\n      <td>1</td>\n      <td>74</td>\n      <td>54</td>\n    </tr>\n  </tbody>\n</table>\n<p>5 rows × 80 columns</p>\n</div>"
     },
     "execution_count": 7,
     "metadata": {},
     "output_type": "execute_result"
    }
   ],
   "source": [
    "import pandas as pd\n",
    "\n",
    "# Set data files paths\n",
    "FLOWS_PATH = \"./data/SQLI-BFXSS/29-03-2024/netflows.csv\"\n",
    "CPU_PATH = \"./data/SQLI-BFXSS/29-03-2024/CPU Usage-data-as-joinbyfield-2024-03-29 18_20_54.csv\"\n",
    "save_directory = \"./output/SQLI-BFXSS\"\n",
    "start_date = '2024-03-29 05:39:13'\n",
    "end_date = '2024-03-29 14:51:30'\n",
    "\n",
    "df_flow = pd.read_csv(FLOWS_PATH)\n",
    "print(df_flow.shape)\n",
    "df_flow.head()"
   ]
  },
  {
   "cell_type": "markdown",
   "metadata": {
    "collapsed": false,
    "jupyter": {
     "outputs_hidden": false
    }
   },
   "source": [
    "Time filtering"
   ]
  },
  {
   "cell_type": "code",
   "execution_count": 8,
   "metadata": {
    "collapsed": false,
    "jupyter": {
     "outputs_hidden": false
    },
    "ExecuteTime": {
     "end_time": "2024-04-02T07:08:15.096299800Z",
     "start_time": "2024-04-02T07:08:14.949022800Z"
    }
   },
   "outputs": [
    {
     "name": "stdout",
     "output_type": "stream",
     "text": [
      "(28416, 80)\n",
      "(17082, 80)\n"
     ]
    },
    {
     "name": "stderr",
     "output_type": "stream",
     "text": [
      "C:\\Users\\hr_mo\\AppData\\Local\\Temp\\ipykernel_20328\\2052669154.py:11: FutureWarning: Downcasting behavior in `replace` is deprecated and will be removed in a future version. To retain the old behavior, explicitly call `result.infer_objects(copy=False)`. To opt-in to the future behavior, set `pd.set_option('future.no_silent_downcasting', True)`\n",
      "  df_flow['class'] = df_flow['class'].replace({'[0]': 0, '[1]': 1})\n"
     ]
    },
    {
     "data": {
      "text/plain": "       class  dst_port  protocol           timestamp  flow_duration  \\\n690        1        22         6 2024-03-29 05:57:13   1.421854e+05   \n6648       1        22         6 2024-03-29 09:07:12   2.119062e+05   \n8948       1        22         6 2024-03-29 10:22:48   1.215508e+05   \n9203       1        22         6 2024-03-29 10:30:58   8.178034e+06   \n9479       1        22         6 2024-03-29 10:39:27   7.353058e+06   \n9580       1        22         6 2024-03-29 10:42:17   7.016068e+06   \n9855       1        22         6 2024-03-29 10:50:59   6.494335e+06   \n9957       1        22         6 2024-03-29 10:53:48   5.709574e+06   \n10041      1        22         6 2024-03-29 10:56:44   5.981776e+06   \n10129      1        22         6 2024-03-29 10:59:27   6.033285e+06   \n10228      1        22         6 2024-03-29 11:02:15   5.222858e+06   \n10324      1        22         6 2024-03-29 11:05:13   8.454556e+06   \n12815      1        80         6 2024-03-29 12:27:57   5.018182e+06   \n13035      1        80         6 2024-03-29 12:34:24   5.009157e+06   \n13097      1        80         6 2024-03-29 12:36:35   5.010459e+06   \n15648      1      6443         6 2024-03-29 14:00:03   5.778313e+03   \n\n         flow_byts_s  flow_pkts_s  fwd_pkts_s  bwd_pkts_s  tot_fwd_pkts  ...  \\\n690      4409.733920    63.297616   35.165342   28.132274             5  ...   \n6648     1826.279787    23.595346   14.157208    9.438138             3  ...   \n8948     5158.337158    74.043117   41.135065   32.908052             5  ...   \n9203      209.463550     1.222788    0.733673    0.489115             6  ...   \n9479      232.964311     1.359978    0.815987    0.543991             6  ...   \n9580      244.153832     1.425300    0.855180    0.570120             6  ...   \n9855      263.768329     1.539803    0.923882    0.615921             6  ...   \n9957      300.022384     1.751444    1.050866    0.700578             6  ...   \n10041     286.369789     1.671744    1.003047    0.668698             6  ...   \n10129     283.924920     1.657472    0.994483    0.662989             6  ...   \n10228     327.981365     1.914661    1.148796    0.765864             6  ...   \n10324     202.612656     1.182794    0.709677    0.473118             6  ...   \n12815     493.605027     1.992753    1.195652    0.797101             6  ...   \n13035     525.238110     1.996344    1.197806    0.798538             6  ...   \n13097     542.465303     1.995825    1.197495    0.798330             6  ...   \n15648  150389.923090  1038.365407  692.243605  346.121802             4  ...   \n\n       bwd_pkts_b_avg  fwd_blk_rate_avg  bwd_blk_rate_avg  fwd_seg_size_avg  \\\n690               0.0               0.0               0.0         62.800000   \n6648              0.0               0.0               0.0         68.666667   \n8948              0.0               0.0               0.0         62.800000   \n9203              0.0               0.0               0.0         70.666667   \n9479              0.0               0.0               0.0         70.666667   \n9580              0.0               0.0               0.0         70.666667   \n9855              0.0               0.0               0.0         70.666667   \n9957              0.0               0.0               0.0         70.666667   \n10041             0.0               0.0               0.0         70.666667   \n10129             0.0               0.0               0.0         70.666667   \n10228             0.0               0.0               0.0         70.666667   \n10324             0.0               0.0               0.0         70.666667   \n12815             0.0               0.0               0.0        131.500000   \n13035             0.0               0.0               0.0        157.166667   \n13097             0.0               0.0               0.0        171.666667   \n15648             0.0               0.0               0.0         91.500000   \n\n       bwd_seg_size_avg  cwe_flag_count  subflow_fwd_pkts  subflow_bwd_pkts  \\\n690               78.25               0                 5                 4   \n6648              90.50               0                 3                 2   \n8948              78.25               0                 5                 4   \n9203             322.25               0                 6                 4   \n9479             322.25               0                 6                 4   \n9580             322.25               0                 6                 4   \n9855             322.25               0                 6                 4   \n9957             322.25               0                 6                 4   \n10041            322.25               0                 6                 4   \n10129            322.25               0                 6                 4   \n10228            322.25               0                 6                 4   \n10324            322.25               0                 6                 4   \n12815            422.00               0                 6                 4   \n13035            422.00               0                 6                 4   \n13097            422.00               0                 6                 4   \n15648            251.50               0                 4                 2   \n\n       subflow_fwd_byts  subflow_bwd_byts  \n690                 314               313  \n6648                206               181  \n8948                314               313  \n9203                424              1289  \n9479                424              1289  \n9580                424              1289  \n9855                424              1289  \n9957                424              1289  \n10041               424              1289  \n10129               424              1289  \n10228               424              1289  \n10324               424              1289  \n12815               789              1688  \n13035               943              1688  \n13097              1030              1688  \n15648               366               503  \n\n[16 rows x 80 columns]",
      "text/html": "<div>\n<style scoped>\n    .dataframe tbody tr th:only-of-type {\n        vertical-align: middle;\n    }\n\n    .dataframe tbody tr th {\n        vertical-align: top;\n    }\n\n    .dataframe thead th {\n        text-align: right;\n    }\n</style>\n<table border=\"1\" class=\"dataframe\">\n  <thead>\n    <tr style=\"text-align: right;\">\n      <th></th>\n      <th>class</th>\n      <th>dst_port</th>\n      <th>protocol</th>\n      <th>timestamp</th>\n      <th>flow_duration</th>\n      <th>flow_byts_s</th>\n      <th>flow_pkts_s</th>\n      <th>fwd_pkts_s</th>\n      <th>bwd_pkts_s</th>\n      <th>tot_fwd_pkts</th>\n      <th>...</th>\n      <th>bwd_pkts_b_avg</th>\n      <th>fwd_blk_rate_avg</th>\n      <th>bwd_blk_rate_avg</th>\n      <th>fwd_seg_size_avg</th>\n      <th>bwd_seg_size_avg</th>\n      <th>cwe_flag_count</th>\n      <th>subflow_fwd_pkts</th>\n      <th>subflow_bwd_pkts</th>\n      <th>subflow_fwd_byts</th>\n      <th>subflow_bwd_byts</th>\n    </tr>\n  </thead>\n  <tbody>\n    <tr>\n      <th>690</th>\n      <td>1</td>\n      <td>22</td>\n      <td>6</td>\n      <td>2024-03-29 05:57:13</td>\n      <td>1.421854e+05</td>\n      <td>4409.733920</td>\n      <td>63.297616</td>\n      <td>35.165342</td>\n      <td>28.132274</td>\n      <td>5</td>\n      <td>...</td>\n      <td>0.0</td>\n      <td>0.0</td>\n      <td>0.0</td>\n      <td>62.800000</td>\n      <td>78.25</td>\n      <td>0</td>\n      <td>5</td>\n      <td>4</td>\n      <td>314</td>\n      <td>313</td>\n    </tr>\n    <tr>\n      <th>6648</th>\n      <td>1</td>\n      <td>22</td>\n      <td>6</td>\n      <td>2024-03-29 09:07:12</td>\n      <td>2.119062e+05</td>\n      <td>1826.279787</td>\n      <td>23.595346</td>\n      <td>14.157208</td>\n      <td>9.438138</td>\n      <td>3</td>\n      <td>...</td>\n      <td>0.0</td>\n      <td>0.0</td>\n      <td>0.0</td>\n      <td>68.666667</td>\n      <td>90.50</td>\n      <td>0</td>\n      <td>3</td>\n      <td>2</td>\n      <td>206</td>\n      <td>181</td>\n    </tr>\n    <tr>\n      <th>8948</th>\n      <td>1</td>\n      <td>22</td>\n      <td>6</td>\n      <td>2024-03-29 10:22:48</td>\n      <td>1.215508e+05</td>\n      <td>5158.337158</td>\n      <td>74.043117</td>\n      <td>41.135065</td>\n      <td>32.908052</td>\n      <td>5</td>\n      <td>...</td>\n      <td>0.0</td>\n      <td>0.0</td>\n      <td>0.0</td>\n      <td>62.800000</td>\n      <td>78.25</td>\n      <td>0</td>\n      <td>5</td>\n      <td>4</td>\n      <td>314</td>\n      <td>313</td>\n    </tr>\n    <tr>\n      <th>9203</th>\n      <td>1</td>\n      <td>22</td>\n      <td>6</td>\n      <td>2024-03-29 10:30:58</td>\n      <td>8.178034e+06</td>\n      <td>209.463550</td>\n      <td>1.222788</td>\n      <td>0.733673</td>\n      <td>0.489115</td>\n      <td>6</td>\n      <td>...</td>\n      <td>0.0</td>\n      <td>0.0</td>\n      <td>0.0</td>\n      <td>70.666667</td>\n      <td>322.25</td>\n      <td>0</td>\n      <td>6</td>\n      <td>4</td>\n      <td>424</td>\n      <td>1289</td>\n    </tr>\n    <tr>\n      <th>9479</th>\n      <td>1</td>\n      <td>22</td>\n      <td>6</td>\n      <td>2024-03-29 10:39:27</td>\n      <td>7.353058e+06</td>\n      <td>232.964311</td>\n      <td>1.359978</td>\n      <td>0.815987</td>\n      <td>0.543991</td>\n      <td>6</td>\n      <td>...</td>\n      <td>0.0</td>\n      <td>0.0</td>\n      <td>0.0</td>\n      <td>70.666667</td>\n      <td>322.25</td>\n      <td>0</td>\n      <td>6</td>\n      <td>4</td>\n      <td>424</td>\n      <td>1289</td>\n    </tr>\n    <tr>\n      <th>9580</th>\n      <td>1</td>\n      <td>22</td>\n      <td>6</td>\n      <td>2024-03-29 10:42:17</td>\n      <td>7.016068e+06</td>\n      <td>244.153832</td>\n      <td>1.425300</td>\n      <td>0.855180</td>\n      <td>0.570120</td>\n      <td>6</td>\n      <td>...</td>\n      <td>0.0</td>\n      <td>0.0</td>\n      <td>0.0</td>\n      <td>70.666667</td>\n      <td>322.25</td>\n      <td>0</td>\n      <td>6</td>\n      <td>4</td>\n      <td>424</td>\n      <td>1289</td>\n    </tr>\n    <tr>\n      <th>9855</th>\n      <td>1</td>\n      <td>22</td>\n      <td>6</td>\n      <td>2024-03-29 10:50:59</td>\n      <td>6.494335e+06</td>\n      <td>263.768329</td>\n      <td>1.539803</td>\n      <td>0.923882</td>\n      <td>0.615921</td>\n      <td>6</td>\n      <td>...</td>\n      <td>0.0</td>\n      <td>0.0</td>\n      <td>0.0</td>\n      <td>70.666667</td>\n      <td>322.25</td>\n      <td>0</td>\n      <td>6</td>\n      <td>4</td>\n      <td>424</td>\n      <td>1289</td>\n    </tr>\n    <tr>\n      <th>9957</th>\n      <td>1</td>\n      <td>22</td>\n      <td>6</td>\n      <td>2024-03-29 10:53:48</td>\n      <td>5.709574e+06</td>\n      <td>300.022384</td>\n      <td>1.751444</td>\n      <td>1.050866</td>\n      <td>0.700578</td>\n      <td>6</td>\n      <td>...</td>\n      <td>0.0</td>\n      <td>0.0</td>\n      <td>0.0</td>\n      <td>70.666667</td>\n      <td>322.25</td>\n      <td>0</td>\n      <td>6</td>\n      <td>4</td>\n      <td>424</td>\n      <td>1289</td>\n    </tr>\n    <tr>\n      <th>10041</th>\n      <td>1</td>\n      <td>22</td>\n      <td>6</td>\n      <td>2024-03-29 10:56:44</td>\n      <td>5.981776e+06</td>\n      <td>286.369789</td>\n      <td>1.671744</td>\n      <td>1.003047</td>\n      <td>0.668698</td>\n      <td>6</td>\n      <td>...</td>\n      <td>0.0</td>\n      <td>0.0</td>\n      <td>0.0</td>\n      <td>70.666667</td>\n      <td>322.25</td>\n      <td>0</td>\n      <td>6</td>\n      <td>4</td>\n      <td>424</td>\n      <td>1289</td>\n    </tr>\n    <tr>\n      <th>10129</th>\n      <td>1</td>\n      <td>22</td>\n      <td>6</td>\n      <td>2024-03-29 10:59:27</td>\n      <td>6.033285e+06</td>\n      <td>283.924920</td>\n      <td>1.657472</td>\n      <td>0.994483</td>\n      <td>0.662989</td>\n      <td>6</td>\n      <td>...</td>\n      <td>0.0</td>\n      <td>0.0</td>\n      <td>0.0</td>\n      <td>70.666667</td>\n      <td>322.25</td>\n      <td>0</td>\n      <td>6</td>\n      <td>4</td>\n      <td>424</td>\n      <td>1289</td>\n    </tr>\n    <tr>\n      <th>10228</th>\n      <td>1</td>\n      <td>22</td>\n      <td>6</td>\n      <td>2024-03-29 11:02:15</td>\n      <td>5.222858e+06</td>\n      <td>327.981365</td>\n      <td>1.914661</td>\n      <td>1.148796</td>\n      <td>0.765864</td>\n      <td>6</td>\n      <td>...</td>\n      <td>0.0</td>\n      <td>0.0</td>\n      <td>0.0</td>\n      <td>70.666667</td>\n      <td>322.25</td>\n      <td>0</td>\n      <td>6</td>\n      <td>4</td>\n      <td>424</td>\n      <td>1289</td>\n    </tr>\n    <tr>\n      <th>10324</th>\n      <td>1</td>\n      <td>22</td>\n      <td>6</td>\n      <td>2024-03-29 11:05:13</td>\n      <td>8.454556e+06</td>\n      <td>202.612656</td>\n      <td>1.182794</td>\n      <td>0.709677</td>\n      <td>0.473118</td>\n      <td>6</td>\n      <td>...</td>\n      <td>0.0</td>\n      <td>0.0</td>\n      <td>0.0</td>\n      <td>70.666667</td>\n      <td>322.25</td>\n      <td>0</td>\n      <td>6</td>\n      <td>4</td>\n      <td>424</td>\n      <td>1289</td>\n    </tr>\n    <tr>\n      <th>12815</th>\n      <td>1</td>\n      <td>80</td>\n      <td>6</td>\n      <td>2024-03-29 12:27:57</td>\n      <td>5.018182e+06</td>\n      <td>493.605027</td>\n      <td>1.992753</td>\n      <td>1.195652</td>\n      <td>0.797101</td>\n      <td>6</td>\n      <td>...</td>\n      <td>0.0</td>\n      <td>0.0</td>\n      <td>0.0</td>\n      <td>131.500000</td>\n      <td>422.00</td>\n      <td>0</td>\n      <td>6</td>\n      <td>4</td>\n      <td>789</td>\n      <td>1688</td>\n    </tr>\n    <tr>\n      <th>13035</th>\n      <td>1</td>\n      <td>80</td>\n      <td>6</td>\n      <td>2024-03-29 12:34:24</td>\n      <td>5.009157e+06</td>\n      <td>525.238110</td>\n      <td>1.996344</td>\n      <td>1.197806</td>\n      <td>0.798538</td>\n      <td>6</td>\n      <td>...</td>\n      <td>0.0</td>\n      <td>0.0</td>\n      <td>0.0</td>\n      <td>157.166667</td>\n      <td>422.00</td>\n      <td>0</td>\n      <td>6</td>\n      <td>4</td>\n      <td>943</td>\n      <td>1688</td>\n    </tr>\n    <tr>\n      <th>13097</th>\n      <td>1</td>\n      <td>80</td>\n      <td>6</td>\n      <td>2024-03-29 12:36:35</td>\n      <td>5.010459e+06</td>\n      <td>542.465303</td>\n      <td>1.995825</td>\n      <td>1.197495</td>\n      <td>0.798330</td>\n      <td>6</td>\n      <td>...</td>\n      <td>0.0</td>\n      <td>0.0</td>\n      <td>0.0</td>\n      <td>171.666667</td>\n      <td>422.00</td>\n      <td>0</td>\n      <td>6</td>\n      <td>4</td>\n      <td>1030</td>\n      <td>1688</td>\n    </tr>\n    <tr>\n      <th>15648</th>\n      <td>1</td>\n      <td>6443</td>\n      <td>6</td>\n      <td>2024-03-29 14:00:03</td>\n      <td>5.778313e+03</td>\n      <td>150389.923090</td>\n      <td>1038.365407</td>\n      <td>692.243605</td>\n      <td>346.121802</td>\n      <td>4</td>\n      <td>...</td>\n      <td>0.0</td>\n      <td>0.0</td>\n      <td>0.0</td>\n      <td>91.500000</td>\n      <td>251.50</td>\n      <td>0</td>\n      <td>4</td>\n      <td>2</td>\n      <td>366</td>\n      <td>503</td>\n    </tr>\n  </tbody>\n</table>\n<p>16 rows × 80 columns</p>\n</div>"
     },
     "execution_count": 8,
     "metadata": {},
     "output_type": "execute_result"
    }
   ],
   "source": [
    "df_flow['timestamp'] = pd.to_datetime(df_flow['timestamp'])\n",
    "\n",
    "print(df_flow.shape)\n",
    "\n",
    "# Filter rows between start_date and end_date\n",
    "df_flow = df_flow[(df_flow['timestamp'] >= start_date) & (df_flow['timestamp'] <= end_date)]\n",
    "\n",
    "print(df_flow.shape)\n",
    "\n",
    "# Replace class values ([0] -> 0 and [1] -> 1)\n",
    "df_flow['class'] = df_flow['class'].replace({'[0]': 0, '[1]': 1})\n",
    "# filtered_df.head()\n",
    "df_flow[df_flow['class']==1]"
   ]
  },
  {
   "cell_type": "code",
   "execution_count": 9,
   "metadata": {
    "collapsed": false,
    "jupyter": {
     "outputs_hidden": false
    },
    "ExecuteTime": {
     "end_time": "2024-04-02T07:08:16.538508900Z",
     "start_time": "2024-04-02T07:08:15.039121700Z"
    }
   },
   "outputs": [],
   "source": [
    "# Save flow data\n",
    "df_flow.to_csv(save_directory + \"flows.csv\", index=False)"
   ]
  },
  {
   "cell_type": "markdown",
   "source": [
    "Column filtering"
   ],
   "metadata": {
    "collapsed": false
   }
  },
  {
   "cell_type": "code",
   "execution_count": 10,
   "outputs": [],
   "source": [
    "# df_flow = df_flow.get([\"timestamp\", \"class\", \"flow_duration\", \"flow_byts_s\", \"flow_pkts_s\", \"tot_fwd_pkts\", \"tot_bwd_pkts\", \"totlen_fwd_pkts\", \"totlen_bwd_pkts\"])\n",
    "# print(df_flow.shape)\n",
    "# df_flow.head()"
   ],
   "metadata": {
    "collapsed": false,
    "ExecuteTime": {
     "end_time": "2024-04-02T07:08:16.554002200Z",
     "start_time": "2024-04-02T07:08:16.540953500Z"
    }
   }
  },
  {
   "cell_type": "markdown",
   "metadata": {
    "collapsed": false,
    "jupyter": {
     "outputs_hidden": false
    }
   },
   "source": [
    "Prepare CPU data"
   ]
  },
  {
   "cell_type": "code",
   "execution_count": 11,
   "metadata": {
    "collapsed": false,
    "jupyter": {
     "outputs_hidden": false
    },
    "ExecuteTime": {
     "end_time": "2024-04-02T07:08:16.767473Z",
     "start_time": "2024-04-02T07:08:16.559841100Z"
    }
   },
   "outputs": [
    {
     "data": {
      "text/plain": "             timestamp  classifier  controller  database  sniffer  cpu_total\n0  2024-03-29 05:39:10      0.0286     0.00574  0.000469    0.843   0.877809\n1  2024-03-29 05:39:15      0.0286     0.00574  0.000469    0.843   0.877809\n2  2024-03-29 05:39:20      0.0286     0.00574  0.000469    0.843   0.877809\n3  2024-03-29 05:39:25      0.0286     0.00574  0.000469    0.843   0.877809\n4  2024-03-29 05:39:30      0.0142     0.00483  0.000972    0.039   0.059002",
      "text/html": "<div>\n<style scoped>\n    .dataframe tbody tr th:only-of-type {\n        vertical-align: middle;\n    }\n\n    .dataframe tbody tr th {\n        vertical-align: top;\n    }\n\n    .dataframe thead th {\n        text-align: right;\n    }\n</style>\n<table border=\"1\" class=\"dataframe\">\n  <thead>\n    <tr style=\"text-align: right;\">\n      <th></th>\n      <th>timestamp</th>\n      <th>classifier</th>\n      <th>controller</th>\n      <th>database</th>\n      <th>sniffer</th>\n      <th>cpu_total</th>\n    </tr>\n  </thead>\n  <tbody>\n    <tr>\n      <th>0</th>\n      <td>2024-03-29 05:39:10</td>\n      <td>0.0286</td>\n      <td>0.00574</td>\n      <td>0.000469</td>\n      <td>0.843</td>\n      <td>0.877809</td>\n    </tr>\n    <tr>\n      <th>1</th>\n      <td>2024-03-29 05:39:15</td>\n      <td>0.0286</td>\n      <td>0.00574</td>\n      <td>0.000469</td>\n      <td>0.843</td>\n      <td>0.877809</td>\n    </tr>\n    <tr>\n      <th>2</th>\n      <td>2024-03-29 05:39:20</td>\n      <td>0.0286</td>\n      <td>0.00574</td>\n      <td>0.000469</td>\n      <td>0.843</td>\n      <td>0.877809</td>\n    </tr>\n    <tr>\n      <th>3</th>\n      <td>2024-03-29 05:39:25</td>\n      <td>0.0286</td>\n      <td>0.00574</td>\n      <td>0.000469</td>\n      <td>0.843</td>\n      <td>0.877809</td>\n    </tr>\n    <tr>\n      <th>4</th>\n      <td>2024-03-29 05:39:30</td>\n      <td>0.0142</td>\n      <td>0.00483</td>\n      <td>0.000972</td>\n      <td>0.039</td>\n      <td>0.059002</td>\n    </tr>\n  </tbody>\n</table>\n</div>"
     },
     "execution_count": 11,
     "metadata": {},
     "output_type": "execute_result"
    }
   ],
   "source": [
    "df_cpu = pd.read_csv(CPU_PATH)\n",
    "df_cpu = df_cpu.rename(columns={'Time': 'timestamp'})\n",
    "df_cpu = df_cpu.drop(\"Value 1\", axis=1)\n",
    "# Merge CPU values by sum\n",
    "df_cpu[\"cpu_total\"] = df_cpu.drop(\"timestamp\", axis=1).sum(axis=1)\n",
    "df_cpu.head()"
   ]
  },
  {
   "cell_type": "code",
   "execution_count": 12,
   "outputs": [],
   "source": [
    "# Save CPU data\n",
    "df_cpu.to_csv(save_directory + \"cpu.csv\", index=False)"
   ],
   "metadata": {
    "collapsed": false,
    "ExecuteTime": {
     "end_time": "2024-04-02T07:08:16.910327100Z",
     "start_time": "2024-04-02T07:08:16.763001500Z"
    }
   }
  },
  {
   "cell_type": "markdown",
   "source": [
    "Convert timestamp columns to datetime objects"
   ],
   "metadata": {
    "collapsed": false
   }
  },
  {
   "cell_type": "code",
   "execution_count": 13,
   "outputs": [],
   "source": [
    "df_cpu['timestamp'] = pd.to_datetime(df_cpu['timestamp'])\n",
    "df_flow['timestamp'] = pd.to_datetime(df_flow['timestamp'])"
   ],
   "metadata": {
    "collapsed": false,
    "ExecuteTime": {
     "end_time": "2024-04-02T07:08:17.069357500Z",
     "start_time": "2024-04-02T07:08:16.842265500Z"
    }
   }
  },
  {
   "cell_type": "markdown",
   "metadata": {
    "collapsed": false,
    "jupyter": {
     "outputs_hidden": false
    }
   },
   "source": [
    "Data mapping (method 1)"
   ]
  },
  {
   "cell_type": "code",
   "execution_count": 14,
   "metadata": {
    "collapsed": false,
    "jupyter": {
     "outputs_hidden": false
    },
    "ExecuteTime": {
     "end_time": "2024-04-02T07:08:47.618794200Z",
     "start_time": "2024-04-02T07:08:17.037046100Z"
    }
   },
   "outputs": [
    {
     "name": "stdout",
     "output_type": "stream",
     "text": [
      "       class  dst_port  protocol  timestamp  flow_duration   flow_byts_s  \\\n",
      "105        0     10249         6        0.0   6.842613e+01  1.870630e+06   \n",
      "106        0      2381         6        1.0   7.104874e+01  1.801580e+06   \n",
      "109        0     31808         6        1.0   1.272177e+06  7.766215e+02   \n",
      "113        0     10259         6        6.0   2.598763e+01  4.925421e+06   \n",
      "114        0       500        17        7.0   0.000000e+00  0.000000e+00   \n",
      "...      ...       ...       ...        ...            ...           ...   \n",
      "17202      0     10249         6    33120.0   3.647804e+01  3.508960e+06   \n",
      "17203      0      2381         6    33121.0   3.004074e+01  4.260880e+06   \n",
      "17204      0     10259         6    33126.0   2.765656e+01  4.628198e+06   \n",
      "17236      0      6443         6    33127.0   9.124560e+07  3.112479e+01   \n",
      "17208      0       500        17    33137.0   0.000000e+00  0.000000e+00   \n",
      "\n",
      "        flow_pkts_s    fwd_pkts_s    bwd_pkts_s  tot_fwd_pkts  ...  \\\n",
      "105    29228.599303  14614.299652  14614.299652             1  ...   \n",
      "106    28149.691275  14074.845638  14074.845638             1  ...   \n",
      "109        7.860542      3.144217      4.716325             4  ...   \n",
      "113    76959.706422  38479.853211  38479.853211             1  ...   \n",
      "114        0.000000      0.000000      0.000000             1  ...   \n",
      "...             ...           ...           ...           ...  ...   \n",
      "17202  54827.503268  27413.751634  27413.751634             1  ...   \n",
      "17203  66576.253968  33288.126984  33288.126984             1  ...   \n",
      "17204  72315.586207  36157.793103  36157.793103             1  ...   \n",
      "17236      0.241108      0.131513      0.109594            12  ...   \n",
      "17208      0.000000      0.000000      0.000000             1  ...   \n",
      "\n",
      "       fwd_blk_rate_avg  bwd_blk_rate_avg  fwd_seg_size_avg  bwd_seg_size_avg  \\\n",
      "105                 0.0               0.0              74.0         54.000000   \n",
      "106                 0.0               0.0              74.0         54.000000   \n",
      "109                 0.0               0.0             150.0         64.666667   \n",
      "113                 0.0               0.0              74.0         54.000000   \n",
      "114                 0.0               0.0             542.0          0.000000   \n",
      "...                 ...               ...               ...               ...   \n",
      "17202               0.0               0.0              74.0         54.000000   \n",
      "17203               0.0               0.0              74.0         54.000000   \n",
      "17204               0.0               0.0              74.0         54.000000   \n",
      "17236               0.0               0.0              98.5        165.800000   \n",
      "17208               0.0               0.0             542.0          0.000000   \n",
      "\n",
      "       cwe_flag_count  subflow_fwd_pkts  subflow_bwd_pkts  subflow_fwd_byts  \\\n",
      "105                 0                 1                 1                74   \n",
      "106                 0                 1                 1                74   \n",
      "109                 0                 4                 6               600   \n",
      "113                 0                 1                 1                74   \n",
      "114                 0                 1                 0               542   \n",
      "...               ...               ...               ...               ...   \n",
      "17202               0                 1                 1                74   \n",
      "17203               0                 1                 1                74   \n",
      "17204               0                 1                 1                74   \n",
      "17236               0                12                10              1182   \n",
      "17208               0                 1                 0               542   \n",
      "\n",
      "       subflow_bwd_byts       cpu  \n",
      "105                  54  0.877809  \n",
      "106                  54  0.877809  \n",
      "109                 388  0.877809  \n",
      "113                  54  0.877809  \n",
      "114                   0  0.877809  \n",
      "...                 ...       ...  \n",
      "17202                54  0.016221  \n",
      "17203                54  0.016221  \n",
      "17204                54  0.016221  \n",
      "17236              1658  0.016221  \n",
      "17208                 0  0.027285  \n",
      "\n",
      "[17082 rows x 81 columns]\n"
     ]
    }
   ],
   "source": [
    "df_flow1 = df_flow\n",
    "\n",
    "# Create a new column in the network dataframe to store associated cpu records\n",
    "df_flow1['cpu'] = None\n",
    "\n",
    "# Loop over each flow row\n",
    "for index, flow_row in df_flow1.iterrows():\n",
    "    # Find the nearest cpu record according to time\n",
    "    nearest_cpu_record = df_cpu.iloc[(df_cpu['timestamp'] - flow_row['timestamp']).abs().argsort()[0]]\n",
    "\n",
    "    # Assign the nearest cpu record to the current flow row\n",
    "    df_flow1.at[index, 'cpu'] = nearest_cpu_record['cpu_total']\n",
    "\n",
    "# Convert all timestamps to total seconds from the first timestamp\n",
    "df_flow1 = df_flow1.sort_values(by='timestamp')\n",
    "first_timestamp = df_flow1['timestamp'].iloc[0]\n",
    "df_flow1['timestamp'] = (df_flow1['timestamp'] - first_timestamp).dt.total_seconds()\n",
    "\n",
    "# Save flow data\n",
    "df_flow1.to_csv(save_directory + \"data1.csv\", index=False)\n",
    "\n",
    "# Print the updated network dataframe with associated cpu records\n",
    "print(df_flow1)"
   ]
  },
  {
   "cell_type": "markdown",
   "source": [
    "Data mapping (method 2)"
   ],
   "metadata": {
    "collapsed": false
   }
  },
  {
   "cell_type": "code",
   "execution_count": 15,
   "outputs": [
    {
     "name": "stdout",
     "output_type": "stream",
     "text": [
      "      timestamp  classifier  controller  database  sniffer  cpu_total  class  \\\n",
      "0           0.0     0.02860     0.00574  0.000469  0.84300   0.877809    0.0   \n",
      "1           5.0     0.02860     0.00574  0.000469  0.84300   0.877809    0.0   \n",
      "2          10.0     0.02860     0.00574  0.000469  0.84300   0.877809    0.0   \n",
      "3          15.0     0.02860     0.00574  0.000469  0.84300   0.877809    0.0   \n",
      "4          20.0     0.01420     0.00483  0.000972  0.03900   0.059002    0.0   \n",
      "...         ...         ...         ...       ...      ...        ...    ...   \n",
      "6624    33120.0     0.00832     0.00257  0.000441  0.00489   0.016221    0.0   \n",
      "6625    33125.0     0.00832     0.00257  0.000441  0.00489   0.016221    0.0   \n",
      "6626    33130.0     0.00832     0.00257  0.000441  0.00489   0.016221    0.0   \n",
      "6627    33135.0     0.00832     0.00257  0.000441  0.00489   0.016221    0.0   \n",
      "6628    33140.0     0.01580     0.00215  0.000325  0.00901   0.027285    0.0   \n",
      "\n",
      "      dst_port  protocol  flow_duration  ...  bwd_blk_rate_avg  \\\n",
      "0      44438.0      18.0   1.272316e+06  ...               0.0   \n",
      "1      10259.0       6.0   2.598763e+01  ...               0.0   \n",
      "2        500.0      17.0   0.000000e+00  ...               0.0   \n",
      "3          0.0       0.0   0.000000e+00  ...               0.0   \n",
      "4      10257.0       6.0   3.218651e+01  ...               0.0   \n",
      "...        ...       ...            ...  ...               ...   \n",
      "6624   73146.0      18.0   9.011195e+07  ...               0.0   \n",
      "6625   10259.0       6.0   2.765656e+01  ...               0.0   \n",
      "6626    6443.0       6.0   9.124560e+07  ...               0.0   \n",
      "6627       0.0       0.0   0.000000e+00  ...               0.0   \n",
      "6628     500.0      17.0   0.000000e+00  ...               0.0   \n",
      "\n",
      "      fwd_seg_size_avg  bwd_seg_size_avg  cwe_flag_count  subflow_fwd_pkts  \\\n",
      "0           298.000000        172.666667             0.0               6.0   \n",
      "1            74.000000         54.000000             0.0               1.0   \n",
      "2           542.000000          0.000000             0.0               1.0   \n",
      "3             0.000000          0.000000             0.0               0.0   \n",
      "4            74.000000         54.000000             0.0               1.0   \n",
      "...                ...               ...             ...               ...   \n",
      "6624       1169.916667        537.750000             0.0              14.0   \n",
      "6625         74.000000         54.000000             0.0               1.0   \n",
      "6626         98.500000        165.800000             0.0              12.0   \n",
      "6627          0.000000          0.000000             0.0               0.0   \n",
      "6628        542.000000          0.000000             0.0               1.0   \n",
      "\n",
      "      subflow_bwd_pkts  subflow_fwd_byts  subflow_bwd_byts       cpu  \\\n",
      "0                  8.0             748.0             496.0  2.633427   \n",
      "1                  1.0              74.0              54.0  0.877809   \n",
      "2                  0.0             542.0               0.0  0.877809   \n",
      "3                  0.0               0.0               0.0  0.000000   \n",
      "4                  1.0              74.0              54.0  0.059002   \n",
      "...                ...               ...               ...       ...   \n",
      "6624              14.0           12411.0            5265.0  0.048663   \n",
      "6625               1.0              74.0              54.0  0.016221   \n",
      "6626              10.0            1182.0            1658.0  0.016221   \n",
      "6627               0.0               0.0               0.0  0.000000   \n",
      "6628               0.0             542.0               0.0  0.027285   \n",
      "\n",
      "      num_flows  \n",
      "0           3.0  \n",
      "1           1.0  \n",
      "2           1.0  \n",
      "3           0.0  \n",
      "4           1.0  \n",
      "...         ...  \n",
      "6624        3.0  \n",
      "6625        1.0  \n",
      "6626        1.0  \n",
      "6627        0.0  \n",
      "6628        1.0  \n",
      "\n",
      "[6629 rows x 87 columns]\n"
     ]
    }
   ],
   "source": [
    "df_cpu1 = df_cpu\n",
    "\n",
    "# Function to aggregate flows for each CPU record\n",
    "def aggregate_flows(cpu_row, network_df):\n",
    "    # Get the current and next CPU timestamps\n",
    "    current_timestamp = cpu_row['timestamp']\n",
    "    next_timestamp = df_cpu1.loc[cpu_row.name + 1, 'timestamp'] if cpu_row.name + 1 < len(df_cpu) else pd.Timestamp.max\n",
    "\n",
    "    # Filter flows that fall within the time interval\n",
    "    flows_in_interval = network_df[(network_df['timestamp'] >= current_timestamp) & (network_df['timestamp'] < next_timestamp)]\n",
    "\n",
    "    # Aggregate flow values\n",
    "    aggregated_values = flows_in_interval.drop(columns=['timestamp']).sum()\n",
    "\n",
    "     # Add a column for the number of aggregated flows\n",
    "    aggregated_values['num_flows'] = len(flows_in_interval)\n",
    "\n",
    "    return aggregated_values\n",
    "\n",
    "# Loop over each CPU row\n",
    "for index, cpu_row in df_cpu1.iterrows():\n",
    "    # Aggregate flows for the current CPU row\n",
    "    aggregated_values = aggregate_flows(cpu_row, df_flow)\n",
    "\n",
    "    # Add aggregated flow values to the CPU row\n",
    "    df_cpu1.loc[index, aggregated_values.index] = aggregated_values.values\n",
    "\n",
    "# Fill NaN values with 0\n",
    "df_cpu1.fillna(0, inplace=True)\n",
    "\n",
    "# Convert all timestamps to total seconds from the first timestamp\n",
    "df_cpu1 = df_cpu1.sort_values(by='timestamp')\n",
    "first_timestamp = df_cpu1['timestamp'].iloc[0]\n",
    "df_cpu1['timestamp'] = (df_cpu1['timestamp'] - first_timestamp).dt.total_seconds()\n",
    "\n",
    "# Save flow data\n",
    "df_cpu1.to_csv(save_directory + \"data2.csv\", index=False)\n",
    "\n",
    "# Print the updated CPU dataframe\n",
    "print(df_cpu1)"
   ],
   "metadata": {
    "collapsed": false,
    "ExecuteTime": {
     "end_time": "2024-04-02T07:12:53.648566700Z",
     "start_time": "2024-04-02T07:08:47.628756500Z"
    }
   }
  }
 ],
 "metadata": {
  "kernelspec": {
   "display_name": "Python 3 (ipykernel)",
   "language": "python",
   "name": "python3"
  },
  "language_info": {
   "codemirror_mode": {
    "name": "ipython",
    "version": 3
   },
   "file_extension": ".py",
   "mimetype": "text/x-python",
   "name": "python",
   "nbconvert_exporter": "python",
   "pygments_lexer": "ipython3",
   "version": "3.11.7"
  }
 },
 "nbformat": 4,
 "nbformat_minor": 4
}

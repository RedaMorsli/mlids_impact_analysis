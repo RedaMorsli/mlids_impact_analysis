{
 "cells": [
  {
   "cell_type": "markdown",
   "source": [
    "Setup"
   ],
   "metadata": {
    "collapsed": false
   }
  },
  {
   "cell_type": "code",
   "execution_count": 106,
   "metadata": {
    "ExecuteTime": {
     "end_time": "2024-03-27T17:04:54.333187600Z",
     "start_time": "2024-03-27T17:04:52.839756200Z"
    }
   },
   "outputs": [
    {
     "name": "stdout",
     "output_type": "stream",
     "text": [
      "(150477, 80)\n"
     ]
    },
    {
     "data": {
      "text/plain": "  class  dst_port  protocol            timestamp  flow_duration   flow_byts_s  \\\n0   [0]     49962         6  2024-03-20 21:43:14   1.409554e+04  3.447898e+04   \n1   [0]     36300         6  2024-03-20 21:43:14   1.472807e+04  3.299822e+04   \n2   [0]     49978         6  2024-03-20 21:43:14   3.995551e+06  1.546720e+02   \n3   [0]     36314         6  2024-03-20 21:43:18   1.479435e+04  2.838922e+04   \n4   [0]     10257         6  2024-03-20 21:43:19   7.033348e+01  1.819901e+06   \n\n    flow_pkts_s    fwd_pkts_s    bwd_pkts_s  tot_fwd_pkts  ...  \\\n0    496.610815    283.777609    212.833206             4  ...   \n1    475.282935    271.590248    203.692686             4  ...   \n2      2.252505      1.251392      1.001113             5  ...   \n3    405.560240    270.373493    135.186747             4  ...   \n4  28435.959322  14217.979661  14217.979661             1  ...   \n\n   bwd_pkts_b_avg  fwd_blk_rate_avg  bwd_blk_rate_avg  fwd_seg_size_avg  \\\n0             0.0               0.0               0.0              66.0   \n1             0.0               0.0               0.0              66.0   \n2             0.0               0.0               0.0              66.0   \n3             0.0               0.0               0.0              66.0   \n4             0.0               0.0               0.0              74.0   \n\n   bwd_seg_size_avg  cwe_flag_count  subflow_fwd_pkts  subflow_bwd_pkts  \\\n0              74.0               0                 4                 3   \n1              74.0               0                 4                 3   \n2              72.0               0                 5                 4   \n3              78.0               0                 4                 2   \n4              54.0               0                 1                 1   \n\n   subflow_fwd_byts  subflow_bwd_byts  \n0               264               222  \n1               264               222  \n2               330               288  \n3               264               156  \n4                74                54  \n\n[5 rows x 80 columns]",
      "text/html": "<div>\n<style scoped>\n    .dataframe tbody tr th:only-of-type {\n        vertical-align: middle;\n    }\n\n    .dataframe tbody tr th {\n        vertical-align: top;\n    }\n\n    .dataframe thead th {\n        text-align: right;\n    }\n</style>\n<table border=\"1\" class=\"dataframe\">\n  <thead>\n    <tr style=\"text-align: right;\">\n      <th></th>\n      <th>class</th>\n      <th>dst_port</th>\n      <th>protocol</th>\n      <th>timestamp</th>\n      <th>flow_duration</th>\n      <th>flow_byts_s</th>\n      <th>flow_pkts_s</th>\n      <th>fwd_pkts_s</th>\n      <th>bwd_pkts_s</th>\n      <th>tot_fwd_pkts</th>\n      <th>...</th>\n      <th>bwd_pkts_b_avg</th>\n      <th>fwd_blk_rate_avg</th>\n      <th>bwd_blk_rate_avg</th>\n      <th>fwd_seg_size_avg</th>\n      <th>bwd_seg_size_avg</th>\n      <th>cwe_flag_count</th>\n      <th>subflow_fwd_pkts</th>\n      <th>subflow_bwd_pkts</th>\n      <th>subflow_fwd_byts</th>\n      <th>subflow_bwd_byts</th>\n    </tr>\n  </thead>\n  <tbody>\n    <tr>\n      <th>0</th>\n      <td>[0]</td>\n      <td>49962</td>\n      <td>6</td>\n      <td>2024-03-20 21:43:14</td>\n      <td>1.409554e+04</td>\n      <td>3.447898e+04</td>\n      <td>496.610815</td>\n      <td>283.777609</td>\n      <td>212.833206</td>\n      <td>4</td>\n      <td>...</td>\n      <td>0.0</td>\n      <td>0.0</td>\n      <td>0.0</td>\n      <td>66.0</td>\n      <td>74.0</td>\n      <td>0</td>\n      <td>4</td>\n      <td>3</td>\n      <td>264</td>\n      <td>222</td>\n    </tr>\n    <tr>\n      <th>1</th>\n      <td>[0]</td>\n      <td>36300</td>\n      <td>6</td>\n      <td>2024-03-20 21:43:14</td>\n      <td>1.472807e+04</td>\n      <td>3.299822e+04</td>\n      <td>475.282935</td>\n      <td>271.590248</td>\n      <td>203.692686</td>\n      <td>4</td>\n      <td>...</td>\n      <td>0.0</td>\n      <td>0.0</td>\n      <td>0.0</td>\n      <td>66.0</td>\n      <td>74.0</td>\n      <td>0</td>\n      <td>4</td>\n      <td>3</td>\n      <td>264</td>\n      <td>222</td>\n    </tr>\n    <tr>\n      <th>2</th>\n      <td>[0]</td>\n      <td>49978</td>\n      <td>6</td>\n      <td>2024-03-20 21:43:14</td>\n      <td>3.995551e+06</td>\n      <td>1.546720e+02</td>\n      <td>2.252505</td>\n      <td>1.251392</td>\n      <td>1.001113</td>\n      <td>5</td>\n      <td>...</td>\n      <td>0.0</td>\n      <td>0.0</td>\n      <td>0.0</td>\n      <td>66.0</td>\n      <td>72.0</td>\n      <td>0</td>\n      <td>5</td>\n      <td>4</td>\n      <td>330</td>\n      <td>288</td>\n    </tr>\n    <tr>\n      <th>3</th>\n      <td>[0]</td>\n      <td>36314</td>\n      <td>6</td>\n      <td>2024-03-20 21:43:18</td>\n      <td>1.479435e+04</td>\n      <td>2.838922e+04</td>\n      <td>405.560240</td>\n      <td>270.373493</td>\n      <td>135.186747</td>\n      <td>4</td>\n      <td>...</td>\n      <td>0.0</td>\n      <td>0.0</td>\n      <td>0.0</td>\n      <td>66.0</td>\n      <td>78.0</td>\n      <td>0</td>\n      <td>4</td>\n      <td>2</td>\n      <td>264</td>\n      <td>156</td>\n    </tr>\n    <tr>\n      <th>4</th>\n      <td>[0]</td>\n      <td>10257</td>\n      <td>6</td>\n      <td>2024-03-20 21:43:19</td>\n      <td>7.033348e+01</td>\n      <td>1.819901e+06</td>\n      <td>28435.959322</td>\n      <td>14217.979661</td>\n      <td>14217.979661</td>\n      <td>1</td>\n      <td>...</td>\n      <td>0.0</td>\n      <td>0.0</td>\n      <td>0.0</td>\n      <td>74.0</td>\n      <td>54.0</td>\n      <td>0</td>\n      <td>1</td>\n      <td>1</td>\n      <td>74</td>\n      <td>54</td>\n    </tr>\n  </tbody>\n</table>\n<p>5 rows × 80 columns</p>\n</div>"
     },
     "execution_count": 106,
     "metadata": {},
     "output_type": "execute_result"
    }
   ],
   "source": [
    "import pandas as pd\n",
    "\n",
    "# Set data files paths\n",
    "FLOWS_PATH = \"./data/DOS/16-02/20-03-2024-17h/netflows.csv\"\n",
    "CPU_PATH = \"./data/DOS/16-02/20-03-2024-17h/CPU Usage-data-as-joinbyfield-2024-03-21 02_28_44.csv\"\n",
    "save_directory = \"./output/DOS/16-02/\"\n",
    "start_date = '2024-03-20 21:46:23'\n",
    "end_date = '2024-03-21 03:18:12'\n",
    "\n",
    "df_flow = pd.read_csv(FLOWS_PATH)\n",
    "print(df_flow.shape)\n",
    "df_flow.head()"
   ]
  },
  {
   "cell_type": "markdown",
   "metadata": {
    "collapsed": false,
    "jupyter": {
     "outputs_hidden": false
    }
   },
   "source": [
    "Time filtering"
   ]
  },
  {
   "cell_type": "code",
   "execution_count": 107,
   "metadata": {
    "collapsed": false,
    "jupyter": {
     "outputs_hidden": false
    },
    "ExecuteTime": {
     "end_time": "2024-03-27T17:04:54.580894700Z",
     "start_time": "2024-03-27T17:04:54.333187600Z"
    }
   },
   "outputs": [
    {
     "name": "stdout",
     "output_type": "stream",
     "text": [
      "(150477, 80)\n",
      "(145391, 80)\n"
     ]
    },
    {
     "name": "stderr",
     "output_type": "stream",
     "text": [
      "C:\\Users\\hr_mo\\AppData\\Local\\Temp\\ipykernel_3312\\2052669154.py:11: FutureWarning: Downcasting behavior in `replace` is deprecated and will be removed in a future version. To retain the old behavior, explicitly call `result.infer_objects(copy=False)`. To opt-in to the future behavior, set `pd.set_option('future.no_silent_downcasting', True)`\n",
      "  df_flow['class'] = df_flow['class'].replace({'[0]': 0, '[1]': 1})\n"
     ]
    },
    {
     "data": {
      "text/plain": "        class  dst_port  protocol           timestamp  flow_duration  \\\n112556      1        80         6 2024-03-21 03:04:57   2.096891e+03   \n112562      1        80         6 2024-03-21 03:04:57   3.473043e+03   \n112568      1        80         6 2024-03-21 03:04:57   6.376982e+03   \n112573      1        80         6 2024-03-21 03:04:57   5.020142e+03   \n112574      1        80         6 2024-03-21 03:04:57   5.208492e+03   \n...       ...       ...       ...                 ...            ...   \n144794      1        80         6 2024-03-21 03:17:48   2.285390e+07   \n144924      1        80         6 2024-03-21 03:17:53   1.439247e+07   \n144939      1     52508         6 2024-03-21 03:17:53   1.373109e+07   \n144960      1        80         6 2024-03-21 03:17:54   1.352047e+07   \n144996      1        80         6 2024-03-21 03:17:55   1.286873e+07   \n\n          flow_byts_s  flow_pkts_s   fwd_pkts_s   bwd_pkts_s  tot_fwd_pkts  \\\n112556  936147.669358  4768.964184  2384.482092  2384.482092             5   \n112562  495818.733301  1727.591405   863.795703   863.795703             3   \n112568  263761.144353   940.883987   470.441993   470.441993             3   \n112573  255172.085106   995.987842   597.592705   398.395137             3   \n112574  244408.541243   959.970704   575.982422   383.988282             3   \n...               ...          ...          ...          ...           ...   \n144794      70.141212     0.218781     0.131269     0.087512             3   \n144924      60.100864     0.555846     0.416885     0.138962             6   \n144939     228.314013     0.364137     0.218482     0.145655             3   \n144960      99.626687     0.443771     0.295848     0.147924             4   \n144996     118.348896     0.310831     0.233123     0.077708             3   \n\n        ...  bwd_pkts_b_avg  fwd_blk_rate_avg  bwd_blk_rate_avg  \\\n112556  ...             0.0               0.0               0.0   \n112562  ...             0.0               0.0               0.0   \n112568  ...             0.0               0.0               0.0   \n112573  ...             0.0               0.0               0.0   \n112574  ...             0.0               0.0               0.0   \n...     ...             ...               ...               ...   \n144794  ...             0.0               0.0               0.0   \n144924  ...             0.0               0.0               0.0   \n144939  ...             0.0               0.0               0.0   \n144960  ...             0.0               0.0               0.0   \n144996  ...             0.0               0.0               0.0   \n\n        fwd_seg_size_avg  bwd_seg_size_avg  cwe_flag_count  subflow_fwd_pkts  \\\n112556        138.000000        254.600000               0                 5   \n112562        193.666667        380.333333               0                 3   \n112568        180.333333        380.333333               0                 3   \n112573         68.666667        537.500000               0                 3   \n112574         68.666667        533.500000               0                 3   \n...                  ...               ...             ...               ...   \n144794        176.000000        537.500000               0                 3   \n144924        120.833333         70.000000               0                 6   \n144939       1001.000000         66.000000               0                 3   \n144960         68.000000        537.500000               0                 4   \n144996        174.000000       1001.000000               0                 3   \n\n        subflow_bwd_pkts  subflow_fwd_byts  subflow_bwd_byts  \n112556                 5               690              1273  \n112562                 3               581              1141  \n112568                 3               541              1141  \n112573                 2               206              1075  \n112574                 2               206              1067  \n...                  ...               ...               ...  \n144794                 2               528              1075  \n144924                 2               725               140  \n144939                 2              3003               132  \n144960                 2               272              1075  \n144996                 1               522              1001  \n\n[791 rows x 80 columns]",
      "text/html": "<div>\n<style scoped>\n    .dataframe tbody tr th:only-of-type {\n        vertical-align: middle;\n    }\n\n    .dataframe tbody tr th {\n        vertical-align: top;\n    }\n\n    .dataframe thead th {\n        text-align: right;\n    }\n</style>\n<table border=\"1\" class=\"dataframe\">\n  <thead>\n    <tr style=\"text-align: right;\">\n      <th></th>\n      <th>class</th>\n      <th>dst_port</th>\n      <th>protocol</th>\n      <th>timestamp</th>\n      <th>flow_duration</th>\n      <th>flow_byts_s</th>\n      <th>flow_pkts_s</th>\n      <th>fwd_pkts_s</th>\n      <th>bwd_pkts_s</th>\n      <th>tot_fwd_pkts</th>\n      <th>...</th>\n      <th>bwd_pkts_b_avg</th>\n      <th>fwd_blk_rate_avg</th>\n      <th>bwd_blk_rate_avg</th>\n      <th>fwd_seg_size_avg</th>\n      <th>bwd_seg_size_avg</th>\n      <th>cwe_flag_count</th>\n      <th>subflow_fwd_pkts</th>\n      <th>subflow_bwd_pkts</th>\n      <th>subflow_fwd_byts</th>\n      <th>subflow_bwd_byts</th>\n    </tr>\n  </thead>\n  <tbody>\n    <tr>\n      <th>112556</th>\n      <td>1</td>\n      <td>80</td>\n      <td>6</td>\n      <td>2024-03-21 03:04:57</td>\n      <td>2.096891e+03</td>\n      <td>936147.669358</td>\n      <td>4768.964184</td>\n      <td>2384.482092</td>\n      <td>2384.482092</td>\n      <td>5</td>\n      <td>...</td>\n      <td>0.0</td>\n      <td>0.0</td>\n      <td>0.0</td>\n      <td>138.000000</td>\n      <td>254.600000</td>\n      <td>0</td>\n      <td>5</td>\n      <td>5</td>\n      <td>690</td>\n      <td>1273</td>\n    </tr>\n    <tr>\n      <th>112562</th>\n      <td>1</td>\n      <td>80</td>\n      <td>6</td>\n      <td>2024-03-21 03:04:57</td>\n      <td>3.473043e+03</td>\n      <td>495818.733301</td>\n      <td>1727.591405</td>\n      <td>863.795703</td>\n      <td>863.795703</td>\n      <td>3</td>\n      <td>...</td>\n      <td>0.0</td>\n      <td>0.0</td>\n      <td>0.0</td>\n      <td>193.666667</td>\n      <td>380.333333</td>\n      <td>0</td>\n      <td>3</td>\n      <td>3</td>\n      <td>581</td>\n      <td>1141</td>\n    </tr>\n    <tr>\n      <th>112568</th>\n      <td>1</td>\n      <td>80</td>\n      <td>6</td>\n      <td>2024-03-21 03:04:57</td>\n      <td>6.376982e+03</td>\n      <td>263761.144353</td>\n      <td>940.883987</td>\n      <td>470.441993</td>\n      <td>470.441993</td>\n      <td>3</td>\n      <td>...</td>\n      <td>0.0</td>\n      <td>0.0</td>\n      <td>0.0</td>\n      <td>180.333333</td>\n      <td>380.333333</td>\n      <td>0</td>\n      <td>3</td>\n      <td>3</td>\n      <td>541</td>\n      <td>1141</td>\n    </tr>\n    <tr>\n      <th>112573</th>\n      <td>1</td>\n      <td>80</td>\n      <td>6</td>\n      <td>2024-03-21 03:04:57</td>\n      <td>5.020142e+03</td>\n      <td>255172.085106</td>\n      <td>995.987842</td>\n      <td>597.592705</td>\n      <td>398.395137</td>\n      <td>3</td>\n      <td>...</td>\n      <td>0.0</td>\n      <td>0.0</td>\n      <td>0.0</td>\n      <td>68.666667</td>\n      <td>537.500000</td>\n      <td>0</td>\n      <td>3</td>\n      <td>2</td>\n      <td>206</td>\n      <td>1075</td>\n    </tr>\n    <tr>\n      <th>112574</th>\n      <td>1</td>\n      <td>80</td>\n      <td>6</td>\n      <td>2024-03-21 03:04:57</td>\n      <td>5.208492e+03</td>\n      <td>244408.541243</td>\n      <td>959.970704</td>\n      <td>575.982422</td>\n      <td>383.988282</td>\n      <td>3</td>\n      <td>...</td>\n      <td>0.0</td>\n      <td>0.0</td>\n      <td>0.0</td>\n      <td>68.666667</td>\n      <td>533.500000</td>\n      <td>0</td>\n      <td>3</td>\n      <td>2</td>\n      <td>206</td>\n      <td>1067</td>\n    </tr>\n    <tr>\n      <th>...</th>\n      <td>...</td>\n      <td>...</td>\n      <td>...</td>\n      <td>...</td>\n      <td>...</td>\n      <td>...</td>\n      <td>...</td>\n      <td>...</td>\n      <td>...</td>\n      <td>...</td>\n      <td>...</td>\n      <td>...</td>\n      <td>...</td>\n      <td>...</td>\n      <td>...</td>\n      <td>...</td>\n      <td>...</td>\n      <td>...</td>\n      <td>...</td>\n      <td>...</td>\n      <td>...</td>\n    </tr>\n    <tr>\n      <th>144794</th>\n      <td>1</td>\n      <td>80</td>\n      <td>6</td>\n      <td>2024-03-21 03:17:48</td>\n      <td>2.285390e+07</td>\n      <td>70.141212</td>\n      <td>0.218781</td>\n      <td>0.131269</td>\n      <td>0.087512</td>\n      <td>3</td>\n      <td>...</td>\n      <td>0.0</td>\n      <td>0.0</td>\n      <td>0.0</td>\n      <td>176.000000</td>\n      <td>537.500000</td>\n      <td>0</td>\n      <td>3</td>\n      <td>2</td>\n      <td>528</td>\n      <td>1075</td>\n    </tr>\n    <tr>\n      <th>144924</th>\n      <td>1</td>\n      <td>80</td>\n      <td>6</td>\n      <td>2024-03-21 03:17:53</td>\n      <td>1.439247e+07</td>\n      <td>60.100864</td>\n      <td>0.555846</td>\n      <td>0.416885</td>\n      <td>0.138962</td>\n      <td>6</td>\n      <td>...</td>\n      <td>0.0</td>\n      <td>0.0</td>\n      <td>0.0</td>\n      <td>120.833333</td>\n      <td>70.000000</td>\n      <td>0</td>\n      <td>6</td>\n      <td>2</td>\n      <td>725</td>\n      <td>140</td>\n    </tr>\n    <tr>\n      <th>144939</th>\n      <td>1</td>\n      <td>52508</td>\n      <td>6</td>\n      <td>2024-03-21 03:17:53</td>\n      <td>1.373109e+07</td>\n      <td>228.314013</td>\n      <td>0.364137</td>\n      <td>0.218482</td>\n      <td>0.145655</td>\n      <td>3</td>\n      <td>...</td>\n      <td>0.0</td>\n      <td>0.0</td>\n      <td>0.0</td>\n      <td>1001.000000</td>\n      <td>66.000000</td>\n      <td>0</td>\n      <td>3</td>\n      <td>2</td>\n      <td>3003</td>\n      <td>132</td>\n    </tr>\n    <tr>\n      <th>144960</th>\n      <td>1</td>\n      <td>80</td>\n      <td>6</td>\n      <td>2024-03-21 03:17:54</td>\n      <td>1.352047e+07</td>\n      <td>99.626687</td>\n      <td>0.443771</td>\n      <td>0.295848</td>\n      <td>0.147924</td>\n      <td>4</td>\n      <td>...</td>\n      <td>0.0</td>\n      <td>0.0</td>\n      <td>0.0</td>\n      <td>68.000000</td>\n      <td>537.500000</td>\n      <td>0</td>\n      <td>4</td>\n      <td>2</td>\n      <td>272</td>\n      <td>1075</td>\n    </tr>\n    <tr>\n      <th>144996</th>\n      <td>1</td>\n      <td>80</td>\n      <td>6</td>\n      <td>2024-03-21 03:17:55</td>\n      <td>1.286873e+07</td>\n      <td>118.348896</td>\n      <td>0.310831</td>\n      <td>0.233123</td>\n      <td>0.077708</td>\n      <td>3</td>\n      <td>...</td>\n      <td>0.0</td>\n      <td>0.0</td>\n      <td>0.0</td>\n      <td>174.000000</td>\n      <td>1001.000000</td>\n      <td>0</td>\n      <td>3</td>\n      <td>1</td>\n      <td>522</td>\n      <td>1001</td>\n    </tr>\n  </tbody>\n</table>\n<p>791 rows × 80 columns</p>\n</div>"
     },
     "execution_count": 107,
     "metadata": {},
     "output_type": "execute_result"
    }
   ],
   "source": [
    "df_flow['timestamp'] = pd.to_datetime(df_flow['timestamp'])\n",
    "\n",
    "print(df_flow.shape)\n",
    "\n",
    "# Filter rows between start_date and end_date\n",
    "df_flow = df_flow[(df_flow['timestamp'] >= start_date) & (df_flow['timestamp'] <= end_date)]\n",
    "\n",
    "print(df_flow.shape)\n",
    "\n",
    "# Replace class values ([0] -> 0 and [1] -> 1)\n",
    "df_flow['class'] = df_flow['class'].replace({'[0]': 0, '[1]': 1})\n",
    "# filtered_df.head()\n",
    "df_flow[df_flow['class']==1]"
   ]
  },
  {
   "cell_type": "code",
   "execution_count": 108,
   "metadata": {
    "collapsed": false,
    "jupyter": {
     "outputs_hidden": false
    },
    "ExecuteTime": {
     "end_time": "2024-03-27T17:05:01.828488200Z",
     "start_time": "2024-03-27T17:04:54.549581600Z"
    }
   },
   "outputs": [],
   "source": [
    "# Save flow data\n",
    "df_flow.to_csv(save_directory + \"flows.csv\", index=False)"
   ]
  },
  {
   "cell_type": "markdown",
   "source": [
    "Column filtering"
   ],
   "metadata": {
    "collapsed": false
   }
  },
  {
   "cell_type": "code",
   "execution_count": 109,
   "outputs": [
    {
     "name": "stdout",
     "output_type": "stream",
     "text": [
      "(145391, 9)\n"
     ]
    },
    {
     "data": {
      "text/plain": "              timestamp  class  flow_duration   flow_byts_s   flow_pkts_s  \\\n41  2024-03-20 23:34:48      0       0.000000  0.000000e+00      0.000000   \n63  2024-03-20 21:47:48      0     282.049179  1.308282e+06  17727.404903   \n89  2024-03-20 21:51:53      0    2380.847931  1.218053e+05    840.036852   \n103 2024-03-21 03:05:11      0       0.000000  0.000000e+00      0.000000   \n116 2024-03-20 21:46:24      0      33.855438  3.780781e+06  59074.704225   \n\n     tot_fwd_pkts  tot_bwd_pkts  totlen_fwd_pkts  totlen_bwd_pkts  \n41              1             0               74                0  \n63              2             3              183              186  \n89              1             1               99              191  \n103             1             0               66                0  \n116             1             1               74               54  ",
      "text/html": "<div>\n<style scoped>\n    .dataframe tbody tr th:only-of-type {\n        vertical-align: middle;\n    }\n\n    .dataframe tbody tr th {\n        vertical-align: top;\n    }\n\n    .dataframe thead th {\n        text-align: right;\n    }\n</style>\n<table border=\"1\" class=\"dataframe\">\n  <thead>\n    <tr style=\"text-align: right;\">\n      <th></th>\n      <th>timestamp</th>\n      <th>class</th>\n      <th>flow_duration</th>\n      <th>flow_byts_s</th>\n      <th>flow_pkts_s</th>\n      <th>tot_fwd_pkts</th>\n      <th>tot_bwd_pkts</th>\n      <th>totlen_fwd_pkts</th>\n      <th>totlen_bwd_pkts</th>\n    </tr>\n  </thead>\n  <tbody>\n    <tr>\n      <th>41</th>\n      <td>2024-03-20 23:34:48</td>\n      <td>0</td>\n      <td>0.000000</td>\n      <td>0.000000e+00</td>\n      <td>0.000000</td>\n      <td>1</td>\n      <td>0</td>\n      <td>74</td>\n      <td>0</td>\n    </tr>\n    <tr>\n      <th>63</th>\n      <td>2024-03-20 21:47:48</td>\n      <td>0</td>\n      <td>282.049179</td>\n      <td>1.308282e+06</td>\n      <td>17727.404903</td>\n      <td>2</td>\n      <td>3</td>\n      <td>183</td>\n      <td>186</td>\n    </tr>\n    <tr>\n      <th>89</th>\n      <td>2024-03-20 21:51:53</td>\n      <td>0</td>\n      <td>2380.847931</td>\n      <td>1.218053e+05</td>\n      <td>840.036852</td>\n      <td>1</td>\n      <td>1</td>\n      <td>99</td>\n      <td>191</td>\n    </tr>\n    <tr>\n      <th>103</th>\n      <td>2024-03-21 03:05:11</td>\n      <td>0</td>\n      <td>0.000000</td>\n      <td>0.000000e+00</td>\n      <td>0.000000</td>\n      <td>1</td>\n      <td>0</td>\n      <td>66</td>\n      <td>0</td>\n    </tr>\n    <tr>\n      <th>116</th>\n      <td>2024-03-20 21:46:24</td>\n      <td>0</td>\n      <td>33.855438</td>\n      <td>3.780781e+06</td>\n      <td>59074.704225</td>\n      <td>1</td>\n      <td>1</td>\n      <td>74</td>\n      <td>54</td>\n    </tr>\n  </tbody>\n</table>\n</div>"
     },
     "execution_count": 109,
     "metadata": {},
     "output_type": "execute_result"
    }
   ],
   "source": [
    "df_flow = df_flow.get([\"timestamp\", \"class\", \"flow_duration\", \"flow_byts_s\", \"flow_pkts_s\", \"tot_fwd_pkts\", \"tot_bwd_pkts\", \"totlen_fwd_pkts\", \"totlen_bwd_pkts\"])\n",
    "print(df_flow.shape)\n",
    "df_flow.head()"
   ],
   "metadata": {
    "collapsed": false,
    "ExecuteTime": {
     "end_time": "2024-03-27T17:05:01.891009700Z",
     "start_time": "2024-03-27T17:05:01.828488200Z"
    }
   }
  },
  {
   "cell_type": "markdown",
   "metadata": {
    "collapsed": false,
    "jupyter": {
     "outputs_hidden": false
    }
   },
   "source": [
    "Prepare CPU data"
   ]
  },
  {
   "cell_type": "code",
   "execution_count": 110,
   "metadata": {
    "collapsed": false,
    "jupyter": {
     "outputs_hidden": false
    },
    "ExecuteTime": {
     "end_time": "2024-03-27T17:05:01.960055800Z",
     "start_time": "2024-03-27T17:05:01.891009700Z"
    }
   },
   "outputs": [
    {
     "data": {
      "text/plain": "             timestamp  classifier  controller  database  sniffer  cpu_total\n0  2024-03-20 21:46:22      0.0247     0.00562  0.000901     0.02   0.051221\n1  2024-03-20 21:46:24      0.0247     0.00562  0.000901     0.02   0.051221\n2  2024-03-20 21:46:26      0.0247     0.00562  0.000901     0.02   0.051221\n3  2024-03-20 21:46:28      0.0247     0.00562  0.000901     0.02   0.051221\n4  2024-03-20 21:46:30      0.0247     0.00562  0.000901     0.02   0.051221",
      "text/html": "<div>\n<style scoped>\n    .dataframe tbody tr th:only-of-type {\n        vertical-align: middle;\n    }\n\n    .dataframe tbody tr th {\n        vertical-align: top;\n    }\n\n    .dataframe thead th {\n        text-align: right;\n    }\n</style>\n<table border=\"1\" class=\"dataframe\">\n  <thead>\n    <tr style=\"text-align: right;\">\n      <th></th>\n      <th>timestamp</th>\n      <th>classifier</th>\n      <th>controller</th>\n      <th>database</th>\n      <th>sniffer</th>\n      <th>cpu_total</th>\n    </tr>\n  </thead>\n  <tbody>\n    <tr>\n      <th>0</th>\n      <td>2024-03-20 21:46:22</td>\n      <td>0.0247</td>\n      <td>0.00562</td>\n      <td>0.000901</td>\n      <td>0.02</td>\n      <td>0.051221</td>\n    </tr>\n    <tr>\n      <th>1</th>\n      <td>2024-03-20 21:46:24</td>\n      <td>0.0247</td>\n      <td>0.00562</td>\n      <td>0.000901</td>\n      <td>0.02</td>\n      <td>0.051221</td>\n    </tr>\n    <tr>\n      <th>2</th>\n      <td>2024-03-20 21:46:26</td>\n      <td>0.0247</td>\n      <td>0.00562</td>\n      <td>0.000901</td>\n      <td>0.02</td>\n      <td>0.051221</td>\n    </tr>\n    <tr>\n      <th>3</th>\n      <td>2024-03-20 21:46:28</td>\n      <td>0.0247</td>\n      <td>0.00562</td>\n      <td>0.000901</td>\n      <td>0.02</td>\n      <td>0.051221</td>\n    </tr>\n    <tr>\n      <th>4</th>\n      <td>2024-03-20 21:46:30</td>\n      <td>0.0247</td>\n      <td>0.00562</td>\n      <td>0.000901</td>\n      <td>0.02</td>\n      <td>0.051221</td>\n    </tr>\n  </tbody>\n</table>\n</div>"
     },
     "execution_count": 110,
     "metadata": {},
     "output_type": "execute_result"
    }
   ],
   "source": [
    "df_cpu = pd.read_csv(CPU_PATH)\n",
    "df_cpu = df_cpu.rename(columns={'Time': 'timestamp'})\n",
    "df_cpu = df_cpu.drop(\"Value 1\", axis=1)\n",
    "# Merge CPU values by sum\n",
    "df_cpu[\"cpu_total\"] = df_cpu.drop(\"timestamp\", axis=1).sum(axis=1)\n",
    "df_cpu.head()"
   ]
  },
  {
   "cell_type": "code",
   "execution_count": 111,
   "outputs": [],
   "source": [
    "# Save CPU data\n",
    "df_cpu.to_csv(save_directory + \"cpu.csv\", index=False)"
   ],
   "metadata": {
    "collapsed": false,
    "ExecuteTime": {
     "end_time": "2024-03-27T17:05:02.075993600Z",
     "start_time": "2024-03-27T17:05:01.960055800Z"
    }
   }
  },
  {
   "cell_type": "markdown",
   "source": [
    "Convert timestamp columns to datetime objects"
   ],
   "metadata": {
    "collapsed": false
   }
  },
  {
   "cell_type": "code",
   "execution_count": 112,
   "outputs": [],
   "source": [
    "df_cpu['timestamp'] = pd.to_datetime(df_cpu['timestamp'])\n",
    "df_flow['timestamp'] = pd.to_datetime(df_flow['timestamp'])"
   ],
   "metadata": {
    "collapsed": false,
    "ExecuteTime": {
     "end_time": "2024-03-27T17:05:02.113673300Z",
     "start_time": "2024-03-27T17:05:02.029085400Z"
    }
   }
  },
  {
   "cell_type": "markdown",
   "metadata": {
    "collapsed": false,
    "jupyter": {
     "outputs_hidden": false
    }
   },
   "source": [
    "Data mapping (method 1)"
   ]
  },
  {
   "cell_type": "code",
   "execution_count": 113,
   "metadata": {
    "collapsed": false,
    "jupyter": {
     "outputs_hidden": false
    },
    "ExecuteTime": {
     "end_time": "2024-03-27T17:05:02.113673300Z",
     "start_time": "2024-03-27T17:05:02.075993600Z"
    }
   },
   "outputs": [],
   "source": [
    "# # Create a new column in the network dataframe to store associated cpu records\n",
    "# df_flow['cpu'] = None\n",
    "#\n",
    "# # Loop over each flow row\n",
    "# for index, flow_row in df_flow.iterrows():\n",
    "#     # Find the nearest cpu record according to time\n",
    "#     nearest_cpu_record = df_cpu.iloc[(df_cpu['timestamp'] - flow_row['timestamp']).abs().argsort()[0]]\n",
    "#\n",
    "#     # Assign the nearest cpu record to the current flow row\n",
    "#     df_flow.at[index, 'cpu'] = nearest_cpu_record['cpu_total']\n",
    "#\n",
    "# # Print the updated network dataframe with associated cpu records\n",
    "# print(df_flow)"
   ]
  },
  {
   "cell_type": "code",
   "execution_count": 114,
   "outputs": [],
   "source": [
    "# # Save flow data\n",
    "# df_flow = df_flow.sort_values(by='timestamp')\n",
    "# df_flow.to_csv(\"./output/BruteForce/data.csv\", index=False)"
   ],
   "metadata": {
    "collapsed": false,
    "ExecuteTime": {
     "end_time": "2024-03-27T17:05:02.176239800Z",
     "start_time": "2024-03-27T17:05:02.091601Z"
    }
   }
  },
  {
   "cell_type": "markdown",
   "source": [
    "Data mapping (method 2)"
   ],
   "metadata": {
    "collapsed": false
   }
  },
  {
   "cell_type": "code",
   "execution_count": 115,
   "outputs": [
    {
     "name": "stdout",
     "output_type": "stream",
     "text": [
      "               timestamp  classifier  controller  database  sniffer  \\\n",
      "0    2024-03-20 21:46:22     0.02470     0.00562  0.000901   0.0200   \n",
      "1    2024-03-20 21:46:24     0.02470     0.00562  0.000901   0.0200   \n",
      "2    2024-03-20 21:46:26     0.02470     0.00562  0.000901   0.0200   \n",
      "3    2024-03-20 21:46:28     0.02470     0.00562  0.000901   0.0200   \n",
      "4    2024-03-20 21:46:30     0.02470     0.00562  0.000901   0.0200   \n",
      "...                  ...         ...         ...       ...      ...   \n",
      "9951 2024-03-21 03:18:04     0.73600     0.12000  0.009320   0.0521   \n",
      "9952 2024-03-21 03:18:06     0.73600     0.12000  0.009320   0.0521   \n",
      "9953 2024-03-21 03:18:08     0.73600     0.12000  0.009320   0.0521   \n",
      "9954 2024-03-21 03:18:10     0.73600     0.12000  0.009320   0.0521   \n",
      "9955 2024-03-21 03:18:12     0.00299     0.00075  0.001850   0.0521   \n",
      "\n",
      "      cpu_total  class  flow_duration   flow_byts_s   flow_pkts_s  \\\n",
      "0      0.051221    0.0   0.000000e+00  0.000000e+00  0.000000e+00   \n",
      "1      0.051221    0.0   2.078467e+07  3.781136e+06  5.907793e+04   \n",
      "2      0.051221    0.0   1.807639e+08  2.729336e+02  4.209126e-01   \n",
      "3      0.051221    0.0   0.000000e+00  0.000000e+00  0.000000e+00   \n",
      "4      0.051221    0.0   0.000000e+00  0.000000e+00  0.000000e+00   \n",
      "...         ...    ...            ...           ...           ...   \n",
      "9951   0.917420    1.0   1.244191e+08  4.173280e+08  3.355030e+06   \n",
      "9952   0.917420    0.0   1.038029e+08  2.567726e+08  2.215964e+06   \n",
      "9953   0.917420    0.0   3.349760e+07  4.125444e+08  5.951060e+06   \n",
      "9954   0.917420    0.0   8.475537e+05  1.902414e+08  2.718694e+06   \n",
      "9955   0.057690    0.0   1.919460e+04  1.323166e+08  1.129303e+06   \n",
      "\n",
      "      tot_fwd_pkts  tot_bwd_pkts  totlen_fwd_pkts  totlen_bwd_pkts  num_flows  \n",
      "0              0.0           0.0              0.0              0.0        0.0  \n",
      "1             24.0          45.0           3732.0           3774.0        2.0  \n",
      "2             20.0          18.0           5772.0          18855.0        2.0  \n",
      "3              0.0           0.0              0.0              0.0        0.0  \n",
      "4              0.0           0.0              0.0              0.0        0.0  \n",
      "...            ...           ...              ...              ...        ...  \n",
      "9951         182.0          43.0          57080.0          13266.0      159.0  \n",
      "9952         130.0          25.0          29623.0           4495.0      105.0  \n",
      "9953         195.0          30.0          50868.0           5816.0      180.0  \n",
      "9954         108.0          15.0          31557.0           2908.0      106.0  \n",
      "9955          43.0           5.0           9924.0            346.0       43.0  \n",
      "\n",
      "[9956 rows x 15 columns]\n"
     ]
    }
   ],
   "source": [
    "# Function to aggregate flows for each CPU record\n",
    "def aggregate_flows(cpu_row, network_df):\n",
    "    # Get the current and next CPU timestamps\n",
    "    current_timestamp = cpu_row['timestamp']\n",
    "    next_timestamp = df_cpu.loc[cpu_row.name + 1, 'timestamp'] if cpu_row.name + 1 < len(df_cpu) else pd.Timestamp.max\n",
    "\n",
    "    # Filter flows that fall within the time interval\n",
    "    flows_in_interval = network_df[(network_df['timestamp'] >= current_timestamp) & (network_df['timestamp'] < next_timestamp)]\n",
    "\n",
    "    # Aggregate flow values\n",
    "    aggregated_values = flows_in_interval.drop(columns=['timestamp']).sum()\n",
    "\n",
    "     # Add a column for the number of aggregated flows\n",
    "    aggregated_values['num_flows'] = len(flows_in_interval)\n",
    "\n",
    "    return aggregated_values\n",
    "\n",
    "# Loop over each CPU row\n",
    "for index, cpu_row in df_cpu.iterrows():\n",
    "    # Aggregate flows for the current CPU row\n",
    "    aggregated_values = aggregate_flows(cpu_row, df_flow)\n",
    "\n",
    "    # Add aggregated flow values to the CPU row\n",
    "    df_cpu.loc[index, aggregated_values.index] = aggregated_values.values\n",
    "\n",
    "# Fill NaN values with 0\n",
    "df_cpu.fillna(0, inplace=True)\n",
    "\n",
    "# Print the updated CPU dataframe\n",
    "print(df_cpu)"
   ],
   "metadata": {
    "collapsed": false,
    "ExecuteTime": {
     "end_time": "2024-03-27T17:05:56.025010600Z",
     "start_time": "2024-03-27T17:05:02.129309200Z"
    }
   }
  },
  {
   "cell_type": "code",
   "execution_count": 116,
   "outputs": [],
   "source": [
    "# Save flow data\n",
    "df_cpu = df_cpu.sort_values(by='timestamp')\n",
    "df_cpu.to_csv(save_directory + \"data.csv\", index=False)"
   ],
   "metadata": {
    "collapsed": false,
    "ExecuteTime": {
     "end_time": "2024-03-27T17:05:56.209647800Z",
     "start_time": "2024-03-27T17:05:56.031022400Z"
    }
   }
  },
  {
   "cell_type": "code",
   "execution_count": 117,
   "metadata": {
    "collapsed": false,
    "jupyter": {
     "outputs_hidden": false
    },
    "ExecuteTime": {
     "end_time": "2024-03-27T17:05:56.231762800Z",
     "start_time": "2024-03-27T17:05:56.209647800Z"
    }
   },
   "outputs": [],
   "source": [
    "# from datetime import datetime\n",
    "# final_df['Time'] = pd.to_datetime(final_df['Time'])\n",
    "# now = pd.Timestamp(datetime.now())\n",
    "# final_df['seconds_from_now'] = (now - final_df['Time']).dt.total_seconds()\n",
    "# final_df.to_csv(\"./output/df_cpu_cleaned.csv\", index=False)"
   ]
  },
  {
   "cell_type": "code",
   "execution_count": 117,
   "metadata": {
    "collapsed": false,
    "jupyter": {
     "outputs_hidden": false
    },
    "ExecuteTime": {
     "end_time": "2024-03-27T17:05:56.247746900Z",
     "start_time": "2024-03-27T17:05:56.231762800Z"
    }
   },
   "outputs": [],
   "source": []
  }
 ],
 "metadata": {
  "kernelspec": {
   "display_name": "Python 3 (ipykernel)",
   "language": "python",
   "name": "python3"
  },
  "language_info": {
   "codemirror_mode": {
    "name": "ipython",
    "version": 3
   },
   "file_extension": ".py",
   "mimetype": "text/x-python",
   "name": "python",
   "nbconvert_exporter": "python",
   "pygments_lexer": "ipython3",
   "version": "3.11.7"
  }
 },
 "nbformat": 4,
 "nbformat_minor": 4
}

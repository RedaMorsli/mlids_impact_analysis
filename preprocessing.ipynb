{
 "cells": [
  {
   "cell_type": "markdown",
   "source": [
    "Setup"
   ],
   "metadata": {
    "collapsed": false
   }
  },
  {
   "cell_type": "code",
   "execution_count": 1,
   "metadata": {
    "ExecuteTime": {
     "end_time": "2024-04-05T21:00:32.679367700Z",
     "start_time": "2024-04-05T21:00:31.954721Z"
    }
   },
   "outputs": [
    {
     "name": "stdout",
     "output_type": "stream",
     "text": [
      "(49145, 80)\n",
      "class                   2\n",
      "dst_port             6658\n",
      "protocol                2\n",
      "timestamp           11413\n",
      "flow_duration       27814\n",
      "                    ...  \n",
      "cwe_flag_count          1\n",
      "subflow_fwd_pkts      231\n",
      "subflow_bwd_pkts      234\n",
      "subflow_fwd_byts     4477\n",
      "subflow_bwd_byts     3492\n",
      "Length: 80, dtype: int64\n"
     ]
    }
   ],
   "source": [
    "import pandas as pd\n",
    "\n",
    "# Set data files paths\n",
    "FLOWS_PATH = \"./data/DOS/15-02/20-03-2024-18h/netflows.csv\"\n",
    "CPU_PATH = \"./data/DOS/15-02/20-03-2024-18h/CPU Usage-data-as-joinbyfield-2024-03-21 03_14_41.csv\"\n",
    "save_directory = \"./output/DOS/\"\n",
    "start_date = '2024-03-20 21:54:40'\n",
    "end_date = '2024-03-21 06:56:17'\n",
    "\n",
    "df_flow = pd.read_csv(FLOWS_PATH)\n",
    "print(df_flow.shape)\n",
    "df_flow.head()\n",
    "print(df_flow.nunique())"
   ]
  },
  {
   "cell_type": "markdown",
   "metadata": {
    "collapsed": false,
    "jupyter": {
     "outputs_hidden": false
    }
   },
   "source": [
    "Time filtering"
   ]
  },
  {
   "cell_type": "code",
   "execution_count": 20,
   "metadata": {
    "collapsed": false,
    "jupyter": {
     "outputs_hidden": false
    },
    "ExecuteTime": {
     "end_time": "2024-04-04T04:11:18.819643100Z",
     "start_time": "2024-04-04T04:11:18.703041300Z"
    }
   },
   "outputs": [
    {
     "name": "stdout",
     "output_type": "stream",
     "text": [
      "(49145, 80)\n",
      "(48839, 80)\n"
     ]
    },
    {
     "name": "stderr",
     "output_type": "stream",
     "text": [
      "C:\\Users\\hr_mo\\AppData\\Local\\Temp\\ipykernel_11972\\2052669154.py:11: FutureWarning: Downcasting behavior in `replace` is deprecated and will be removed in a future version. To retain the old behavior, explicitly call `result.infer_objects(copy=False)`. To opt-in to the future behavior, set `pd.set_option('future.no_silent_downcasting', True)`\n",
      "  df_flow['class'] = df_flow['class'].replace({'[0]': 0, '[1]': 1})\n"
     ]
    },
    {
     "data": {
      "text/plain": "       class  dst_port  protocol           timestamp  flow_duration  \\\n865        1        80         6 2024-03-20 22:17:52   5.303789e+06   \n1207       1        22         6 2024-03-20 22:29:16   6.632161e+04   \n2039       1        80         6 2024-03-20 22:57:14   4.300155e+06   \n2046       1        80         6 2024-03-20 22:57:14   3.528595e+02   \n2052       1        80         6 2024-03-20 22:57:14   4.301531e+06   \n...      ...       ...       ...                 ...            ...   \n38773      1        80         6 2024-03-21 01:11:04   2.682293e+06   \n38792      1        80         6 2024-03-21 01:11:01   7.749537e+06   \n41892      1      6443         6 2024-03-21 02:55:45   3.083944e+03   \n42356      1        22         6 2024-03-21 03:11:42   2.228577e+05   \n42389      1      6443         6 2024-03-21 03:12:45   3.760576e+03   \n\n         flow_byts_s  flow_pkts_s   fwd_pkts_s   bwd_pkts_s  tot_fwd_pkts  \\\n865       236.623305     1.885445     1.131267     0.754178             6   \n1207     8458.781205   120.624331    75.390207    45.234124             5   \n2039      422.542892     1.860398     1.162749     0.697649             5   \n2046   583801.772973  8501.967568  5667.978378  2833.989189             2   \n2052      372.193057     1.859803     1.162377     0.697426             5   \n...              ...          ...          ...          ...           ...   \n38773     965.591861     5.219415     4.100969     1.118446            11   \n38792     412.669803     2.064639     1.677520     0.387120            13   \n41892  418944.009896  1945.560417   972.780209   972.780209             3   \n42356     744.869887    13.461504     8.974336     4.487168             2   \n42389  386111.038357  1861.416852  1063.666772   797.750079             4   \n\n       ...  bwd_pkts_b_avg  fwd_blk_rate_avg  bwd_blk_rate_avg  \\\n865    ...             0.0          0.000000               0.0   \n1207   ...             0.0          0.000000               0.0   \n2039   ...             0.0          0.000000               0.0   \n2046   ...             0.0          0.000000               0.0   \n2052   ...             0.0          0.000000               0.0   \n...    ...             ...               ...               ...   \n38773  ...             0.0        693.304877               0.0   \n38792  ...             0.0        684.865903               0.0   \n41892  ...             0.0          0.000000               0.0   \n42356  ...             0.0          0.000000               0.0   \n42389  ...             0.0          0.000000               0.0   \n\n       fwd_seg_size_avg  bwd_seg_size_avg  cwe_flag_count  subflow_fwd_pkts  \\\n865           90.166667        178.500000               0                 6   \n1207          62.800000         82.333333               0                 5   \n2039         127.800000        392.666667               0                 5   \n2046          70.000000         66.000000               0                 2   \n2052         146.600000        289.333333               0                 5   \n...                 ...               ...             ...               ...   \n38773        169.818182        240.666667               0                11   \n38792        190.461538        240.666667               0                13   \n41892        241.000000        189.666667               0                 3   \n42356         54.000000         58.000000               0                 2   \n42389        220.750000        189.666667               0                 4   \n\n       subflow_bwd_pkts  subflow_fwd_byts  subflow_bwd_byts  \n865                   4               541               714  \n1207                  3               314               247  \n2039                  3               639              1178  \n2046                  1               140                66  \n2052                  3               733               868  \n...                 ...               ...               ...  \n38773                 3              1868               722  \n38792                 3              2476               722  \n41892                 3               723               569  \n42356                 1               108                58  \n42389                 3               883               569  \n\n[3168 rows x 80 columns]",
      "text/html": "<div>\n<style scoped>\n    .dataframe tbody tr th:only-of-type {\n        vertical-align: middle;\n    }\n\n    .dataframe tbody tr th {\n        vertical-align: top;\n    }\n\n    .dataframe thead th {\n        text-align: right;\n    }\n</style>\n<table border=\"1\" class=\"dataframe\">\n  <thead>\n    <tr style=\"text-align: right;\">\n      <th></th>\n      <th>class</th>\n      <th>dst_port</th>\n      <th>protocol</th>\n      <th>timestamp</th>\n      <th>flow_duration</th>\n      <th>flow_byts_s</th>\n      <th>flow_pkts_s</th>\n      <th>fwd_pkts_s</th>\n      <th>bwd_pkts_s</th>\n      <th>tot_fwd_pkts</th>\n      <th>...</th>\n      <th>bwd_pkts_b_avg</th>\n      <th>fwd_blk_rate_avg</th>\n      <th>bwd_blk_rate_avg</th>\n      <th>fwd_seg_size_avg</th>\n      <th>bwd_seg_size_avg</th>\n      <th>cwe_flag_count</th>\n      <th>subflow_fwd_pkts</th>\n      <th>subflow_bwd_pkts</th>\n      <th>subflow_fwd_byts</th>\n      <th>subflow_bwd_byts</th>\n    </tr>\n  </thead>\n  <tbody>\n    <tr>\n      <th>865</th>\n      <td>1</td>\n      <td>80</td>\n      <td>6</td>\n      <td>2024-03-20 22:17:52</td>\n      <td>5.303789e+06</td>\n      <td>236.623305</td>\n      <td>1.885445</td>\n      <td>1.131267</td>\n      <td>0.754178</td>\n      <td>6</td>\n      <td>...</td>\n      <td>0.0</td>\n      <td>0.000000</td>\n      <td>0.0</td>\n      <td>90.166667</td>\n      <td>178.500000</td>\n      <td>0</td>\n      <td>6</td>\n      <td>4</td>\n      <td>541</td>\n      <td>714</td>\n    </tr>\n    <tr>\n      <th>1207</th>\n      <td>1</td>\n      <td>22</td>\n      <td>6</td>\n      <td>2024-03-20 22:29:16</td>\n      <td>6.632161e+04</td>\n      <td>8458.781205</td>\n      <td>120.624331</td>\n      <td>75.390207</td>\n      <td>45.234124</td>\n      <td>5</td>\n      <td>...</td>\n      <td>0.0</td>\n      <td>0.000000</td>\n      <td>0.0</td>\n      <td>62.800000</td>\n      <td>82.333333</td>\n      <td>0</td>\n      <td>5</td>\n      <td>3</td>\n      <td>314</td>\n      <td>247</td>\n    </tr>\n    <tr>\n      <th>2039</th>\n      <td>1</td>\n      <td>80</td>\n      <td>6</td>\n      <td>2024-03-20 22:57:14</td>\n      <td>4.300155e+06</td>\n      <td>422.542892</td>\n      <td>1.860398</td>\n      <td>1.162749</td>\n      <td>0.697649</td>\n      <td>5</td>\n      <td>...</td>\n      <td>0.0</td>\n      <td>0.000000</td>\n      <td>0.0</td>\n      <td>127.800000</td>\n      <td>392.666667</td>\n      <td>0</td>\n      <td>5</td>\n      <td>3</td>\n      <td>639</td>\n      <td>1178</td>\n    </tr>\n    <tr>\n      <th>2046</th>\n      <td>1</td>\n      <td>80</td>\n      <td>6</td>\n      <td>2024-03-20 22:57:14</td>\n      <td>3.528595e+02</td>\n      <td>583801.772973</td>\n      <td>8501.967568</td>\n      <td>5667.978378</td>\n      <td>2833.989189</td>\n      <td>2</td>\n      <td>...</td>\n      <td>0.0</td>\n      <td>0.000000</td>\n      <td>0.0</td>\n      <td>70.000000</td>\n      <td>66.000000</td>\n      <td>0</td>\n      <td>2</td>\n      <td>1</td>\n      <td>140</td>\n      <td>66</td>\n    </tr>\n    <tr>\n      <th>2052</th>\n      <td>1</td>\n      <td>80</td>\n      <td>6</td>\n      <td>2024-03-20 22:57:14</td>\n      <td>4.301531e+06</td>\n      <td>372.193057</td>\n      <td>1.859803</td>\n      <td>1.162377</td>\n      <td>0.697426</td>\n      <td>5</td>\n      <td>...</td>\n      <td>0.0</td>\n      <td>0.000000</td>\n      <td>0.0</td>\n      <td>146.600000</td>\n      <td>289.333333</td>\n      <td>0</td>\n      <td>5</td>\n      <td>3</td>\n      <td>733</td>\n      <td>868</td>\n    </tr>\n    <tr>\n      <th>...</th>\n      <td>...</td>\n      <td>...</td>\n      <td>...</td>\n      <td>...</td>\n      <td>...</td>\n      <td>...</td>\n      <td>...</td>\n      <td>...</td>\n      <td>...</td>\n      <td>...</td>\n      <td>...</td>\n      <td>...</td>\n      <td>...</td>\n      <td>...</td>\n      <td>...</td>\n      <td>...</td>\n      <td>...</td>\n      <td>...</td>\n      <td>...</td>\n      <td>...</td>\n      <td>...</td>\n    </tr>\n    <tr>\n      <th>38773</th>\n      <td>1</td>\n      <td>80</td>\n      <td>6</td>\n      <td>2024-03-21 01:11:04</td>\n      <td>2.682293e+06</td>\n      <td>965.591861</td>\n      <td>5.219415</td>\n      <td>4.100969</td>\n      <td>1.118446</td>\n      <td>11</td>\n      <td>...</td>\n      <td>0.0</td>\n      <td>693.304877</td>\n      <td>0.0</td>\n      <td>169.818182</td>\n      <td>240.666667</td>\n      <td>0</td>\n      <td>11</td>\n      <td>3</td>\n      <td>1868</td>\n      <td>722</td>\n    </tr>\n    <tr>\n      <th>38792</th>\n      <td>1</td>\n      <td>80</td>\n      <td>6</td>\n      <td>2024-03-21 01:11:01</td>\n      <td>7.749537e+06</td>\n      <td>412.669803</td>\n      <td>2.064639</td>\n      <td>1.677520</td>\n      <td>0.387120</td>\n      <td>13</td>\n      <td>...</td>\n      <td>0.0</td>\n      <td>684.865903</td>\n      <td>0.0</td>\n      <td>190.461538</td>\n      <td>240.666667</td>\n      <td>0</td>\n      <td>13</td>\n      <td>3</td>\n      <td>2476</td>\n      <td>722</td>\n    </tr>\n    <tr>\n      <th>41892</th>\n      <td>1</td>\n      <td>6443</td>\n      <td>6</td>\n      <td>2024-03-21 02:55:45</td>\n      <td>3.083944e+03</td>\n      <td>418944.009896</td>\n      <td>1945.560417</td>\n      <td>972.780209</td>\n      <td>972.780209</td>\n      <td>3</td>\n      <td>...</td>\n      <td>0.0</td>\n      <td>0.000000</td>\n      <td>0.0</td>\n      <td>241.000000</td>\n      <td>189.666667</td>\n      <td>0</td>\n      <td>3</td>\n      <td>3</td>\n      <td>723</td>\n      <td>569</td>\n    </tr>\n    <tr>\n      <th>42356</th>\n      <td>1</td>\n      <td>22</td>\n      <td>6</td>\n      <td>2024-03-21 03:11:42</td>\n      <td>2.228577e+05</td>\n      <td>744.869887</td>\n      <td>13.461504</td>\n      <td>8.974336</td>\n      <td>4.487168</td>\n      <td>2</td>\n      <td>...</td>\n      <td>0.0</td>\n      <td>0.000000</td>\n      <td>0.0</td>\n      <td>54.000000</td>\n      <td>58.000000</td>\n      <td>0</td>\n      <td>2</td>\n      <td>1</td>\n      <td>108</td>\n      <td>58</td>\n    </tr>\n    <tr>\n      <th>42389</th>\n      <td>1</td>\n      <td>6443</td>\n      <td>6</td>\n      <td>2024-03-21 03:12:45</td>\n      <td>3.760576e+03</td>\n      <td>386111.038357</td>\n      <td>1861.416852</td>\n      <td>1063.666772</td>\n      <td>797.750079</td>\n      <td>4</td>\n      <td>...</td>\n      <td>0.0</td>\n      <td>0.000000</td>\n      <td>0.0</td>\n      <td>220.750000</td>\n      <td>189.666667</td>\n      <td>0</td>\n      <td>4</td>\n      <td>3</td>\n      <td>883</td>\n      <td>569</td>\n    </tr>\n  </tbody>\n</table>\n<p>3168 rows × 80 columns</p>\n</div>"
     },
     "execution_count": 20,
     "metadata": {},
     "output_type": "execute_result"
    }
   ],
   "source": [
    "df_flow['timestamp'] = pd.to_datetime(df_flow['timestamp'])\n",
    "\n",
    "print(df_flow.shape)\n",
    "\n",
    "# Filter rows between start_date and end_date\n",
    "df_flow = df_flow[(df_flow['timestamp'] >= start_date) & (df_flow['timestamp'] <= end_date)]\n",
    "\n",
    "print(df_flow.shape)\n",
    "\n",
    "# Replace class values ([0] -> 0 and [1] -> 1)\n",
    "df_flow['class'] = df_flow['class'].replace({'[0]': 0, '[1]': 1})\n",
    "# filtered_df.head()\n",
    "df_flow[df_flow['class']==1]"
   ]
  },
  {
   "cell_type": "code",
   "execution_count": 12,
   "metadata": {
    "collapsed": false,
    "jupyter": {
     "outputs_hidden": false
    },
    "ExecuteTime": {
     "end_time": "2024-04-04T02:06:42.708643900Z",
     "start_time": "2024-04-04T02:06:41.010056400Z"
    }
   },
   "outputs": [],
   "source": [
    "# Save flow data\n",
    "df_flow.to_csv(save_directory + \"flows.csv\", index=False)"
   ]
  },
  {
   "cell_type": "markdown",
   "source": [
    "Column filtering"
   ],
   "metadata": {
    "collapsed": false
   }
  },
  {
   "cell_type": "code",
   "execution_count": 13,
   "outputs": [],
   "source": [
    "# df_flow = df_flow.get([\"timestamp\", \"class\", \"flow_duration\", \"flow_byts_s\", \"flow_pkts_s\", \"tot_fwd_pkts\", \"tot_bwd_pkts\", \"totlen_fwd_pkts\", \"totlen_bwd_pkts\"])\n",
    "# print(df_flow.shape)\n",
    "# df_flow.head()"
   ],
   "metadata": {
    "collapsed": false,
    "ExecuteTime": {
     "end_time": "2024-04-04T02:06:42.708643900Z",
     "start_time": "2024-04-04T02:06:42.670643900Z"
    }
   }
  },
  {
   "cell_type": "markdown",
   "metadata": {
    "collapsed": false,
    "jupyter": {
     "outputs_hidden": false
    }
   },
   "source": [
    "Prepare CPU data"
   ]
  },
  {
   "cell_type": "code",
   "execution_count": 14,
   "metadata": {
    "collapsed": false,
    "jupyter": {
     "outputs_hidden": false
    },
    "ExecuteTime": {
     "end_time": "2024-04-04T02:06:42.778701400Z",
     "start_time": "2024-04-04T02:06:42.687645Z"
    }
   },
   "outputs": [
    {
     "data": {
      "text/plain": "             timestamp  classifier  controller  database  sniffer  cpu_total\n0  2024-03-29 05:39:10      0.0286     0.00574  0.000469    0.843   0.877809\n1  2024-03-29 05:39:15      0.0286     0.00574  0.000469    0.843   0.877809\n2  2024-03-29 05:39:20      0.0286     0.00574  0.000469    0.843   0.877809\n3  2024-03-29 05:39:25      0.0286     0.00574  0.000469    0.843   0.877809\n4  2024-03-29 05:39:30      0.0142     0.00483  0.000972    0.039   0.059002",
      "text/html": "<div>\n<style scoped>\n    .dataframe tbody tr th:only-of-type {\n        vertical-align: middle;\n    }\n\n    .dataframe tbody tr th {\n        vertical-align: top;\n    }\n\n    .dataframe thead th {\n        text-align: right;\n    }\n</style>\n<table border=\"1\" class=\"dataframe\">\n  <thead>\n    <tr style=\"text-align: right;\">\n      <th></th>\n      <th>timestamp</th>\n      <th>classifier</th>\n      <th>controller</th>\n      <th>database</th>\n      <th>sniffer</th>\n      <th>cpu_total</th>\n    </tr>\n  </thead>\n  <tbody>\n    <tr>\n      <th>0</th>\n      <td>2024-03-29 05:39:10</td>\n      <td>0.0286</td>\n      <td>0.00574</td>\n      <td>0.000469</td>\n      <td>0.843</td>\n      <td>0.877809</td>\n    </tr>\n    <tr>\n      <th>1</th>\n      <td>2024-03-29 05:39:15</td>\n      <td>0.0286</td>\n      <td>0.00574</td>\n      <td>0.000469</td>\n      <td>0.843</td>\n      <td>0.877809</td>\n    </tr>\n    <tr>\n      <th>2</th>\n      <td>2024-03-29 05:39:20</td>\n      <td>0.0286</td>\n      <td>0.00574</td>\n      <td>0.000469</td>\n      <td>0.843</td>\n      <td>0.877809</td>\n    </tr>\n    <tr>\n      <th>3</th>\n      <td>2024-03-29 05:39:25</td>\n      <td>0.0286</td>\n      <td>0.00574</td>\n      <td>0.000469</td>\n      <td>0.843</td>\n      <td>0.877809</td>\n    </tr>\n    <tr>\n      <th>4</th>\n      <td>2024-03-29 05:39:30</td>\n      <td>0.0142</td>\n      <td>0.00483</td>\n      <td>0.000972</td>\n      <td>0.039</td>\n      <td>0.059002</td>\n    </tr>\n  </tbody>\n</table>\n</div>"
     },
     "execution_count": 14,
     "metadata": {},
     "output_type": "execute_result"
    }
   ],
   "source": [
    "df_cpu = pd.read_csv(CPU_PATH)\n",
    "df_cpu = df_cpu.rename(columns={'Time': 'timestamp'})\n",
    "df_cpu = df_cpu.drop(\"Value 1\", axis=1)\n",
    "# Merge CPU values by sum\n",
    "df_cpu[\"cpu_total\"] = df_cpu.drop(\"timestamp\", axis=1).sum(axis=1)\n",
    "df_cpu.head()"
   ]
  },
  {
   "cell_type": "code",
   "execution_count": 15,
   "outputs": [],
   "source": [
    "# Save CPU data\n",
    "df_cpu.to_csv(save_directory + \"cpu.csv\", index=False)"
   ],
   "metadata": {
    "collapsed": false,
    "ExecuteTime": {
     "end_time": "2024-04-04T02:06:42.903441800Z",
     "start_time": "2024-04-04T02:06:42.764701200Z"
    }
   }
  },
  {
   "cell_type": "markdown",
   "source": [
    "Convert timestamp columns to datetime objects"
   ],
   "metadata": {
    "collapsed": false
   }
  },
  {
   "cell_type": "code",
   "execution_count": 16,
   "outputs": [],
   "source": [
    "df_cpu['timestamp'] = pd.to_datetime(df_cpu['timestamp'])\n",
    "df_flow['timestamp'] = pd.to_datetime(df_flow['timestamp'])"
   ],
   "metadata": {
    "collapsed": false,
    "ExecuteTime": {
     "end_time": "2024-04-04T02:06:42.935441300Z",
     "start_time": "2024-04-04T02:06:42.830035200Z"
    }
   }
  },
  {
   "cell_type": "markdown",
   "metadata": {
    "collapsed": false,
    "jupyter": {
     "outputs_hidden": false
    }
   },
   "source": [
    "Data mapping (method 1)"
   ]
  },
  {
   "cell_type": "code",
   "execution_count": 17,
   "metadata": {
    "collapsed": false,
    "jupyter": {
     "outputs_hidden": false
    },
    "ExecuteTime": {
     "end_time": "2024-04-04T02:07:07.835486400Z",
     "start_time": "2024-04-04T02:06:42.878444Z"
    }
   },
   "outputs": [
    {
     "name": "stdout",
     "output_type": "stream",
     "text": [
      "       class  dst_port  protocol  timestamp  flow_duration   flow_byts_s  \\\n",
      "105        0     10249         6        0.0   6.842613e+01  1.870630e+06   \n",
      "106        0      2381         6        1.0   7.104874e+01  1.801580e+06   \n",
      "109        0     31808         6        1.0   1.272177e+06  7.766215e+02   \n",
      "113        0     10259         6        6.0   2.598763e+01  4.925421e+06   \n",
      "114        0       500        17        7.0   0.000000e+00  0.000000e+00   \n",
      "...      ...       ...       ...        ...            ...           ...   \n",
      "17202      0     10249         6    33120.0   3.647804e+01  3.508960e+06   \n",
      "17203      0      2381         6    33121.0   3.004074e+01  4.260880e+06   \n",
      "17204      0     10259         6    33126.0   2.765656e+01  4.628198e+06   \n",
      "17236      0      6443         6    33127.0   9.124560e+07  3.112479e+01   \n",
      "17208      0       500        17    33137.0   0.000000e+00  0.000000e+00   \n",
      "\n",
      "        flow_pkts_s    fwd_pkts_s    bwd_pkts_s  tot_fwd_pkts  ...  \\\n",
      "105    29228.599303  14614.299652  14614.299652             1  ...   \n",
      "106    28149.691275  14074.845638  14074.845638             1  ...   \n",
      "109        7.860542      3.144217      4.716325             4  ...   \n",
      "113    76959.706422  38479.853211  38479.853211             1  ...   \n",
      "114        0.000000      0.000000      0.000000             1  ...   \n",
      "...             ...           ...           ...           ...  ...   \n",
      "17202  54827.503268  27413.751634  27413.751634             1  ...   \n",
      "17203  66576.253968  33288.126984  33288.126984             1  ...   \n",
      "17204  72315.586207  36157.793103  36157.793103             1  ...   \n",
      "17236      0.241108      0.131513      0.109594            12  ...   \n",
      "17208      0.000000      0.000000      0.000000             1  ...   \n",
      "\n",
      "       fwd_blk_rate_avg  bwd_blk_rate_avg  fwd_seg_size_avg  bwd_seg_size_avg  \\\n",
      "105                 0.0               0.0              74.0         54.000000   \n",
      "106                 0.0               0.0              74.0         54.000000   \n",
      "109                 0.0               0.0             150.0         64.666667   \n",
      "113                 0.0               0.0              74.0         54.000000   \n",
      "114                 0.0               0.0             542.0          0.000000   \n",
      "...                 ...               ...               ...               ...   \n",
      "17202               0.0               0.0              74.0         54.000000   \n",
      "17203               0.0               0.0              74.0         54.000000   \n",
      "17204               0.0               0.0              74.0         54.000000   \n",
      "17236               0.0               0.0              98.5        165.800000   \n",
      "17208               0.0               0.0             542.0          0.000000   \n",
      "\n",
      "       cwe_flag_count  subflow_fwd_pkts  subflow_bwd_pkts  subflow_fwd_byts  \\\n",
      "105                 0                 1                 1                74   \n",
      "106                 0                 1                 1                74   \n",
      "109                 0                 4                 6               600   \n",
      "113                 0                 1                 1                74   \n",
      "114                 0                 1                 0               542   \n",
      "...               ...               ...               ...               ...   \n",
      "17202               0                 1                 1                74   \n",
      "17203               0                 1                 1                74   \n",
      "17204               0                 1                 1                74   \n",
      "17236               0                12                10              1182   \n",
      "17208               0                 1                 0               542   \n",
      "\n",
      "       subflow_bwd_byts       cpu  \n",
      "105                  54  0.877809  \n",
      "106                  54  0.877809  \n",
      "109                 388  0.877809  \n",
      "113                  54  0.877809  \n",
      "114                   0  0.877809  \n",
      "...                 ...       ...  \n",
      "17202                54  0.016221  \n",
      "17203                54  0.016221  \n",
      "17204                54  0.016221  \n",
      "17236              1658  0.016221  \n",
      "17208                 0  0.027285  \n",
      "\n",
      "[17082 rows x 81 columns]\n"
     ]
    }
   ],
   "source": [
    "df_flow1 = df_flow\n",
    "\n",
    "# Create a new column in the network dataframe to store associated cpu records\n",
    "df_flow1['cpu'] = None\n",
    "\n",
    "# Loop over each flow row\n",
    "for index, flow_row in df_flow1.iterrows():\n",
    "    # Find the nearest cpu record according to time\n",
    "    nearest_cpu_record = df_cpu.iloc[(df_cpu['timestamp'] - flow_row['timestamp']).abs().argsort()[0]]\n",
    "\n",
    "    # Assign the nearest cpu record to the current flow row\n",
    "    df_flow1.at[index, 'cpu'] = nearest_cpu_record['cpu_total']\n",
    "\n",
    "# Convert all timestamps to total seconds from the first timestamp\n",
    "df_flow1 = df_flow1.sort_values(by='timestamp')\n",
    "first_timestamp = df_flow1['timestamp'].iloc[0]\n",
    "df_flow1['timestamp'] = (df_flow1['timestamp'] - first_timestamp).dt.total_seconds()\n",
    "\n",
    "# Save flow data\n",
    "df_flow1.to_csv(save_directory + \"data1.csv\", index=False)\n",
    "\n",
    "# Print the updated network dataframe with associated cpu records\n",
    "print(df_flow1)"
   ]
  },
  {
   "cell_type": "markdown",
   "source": [
    "Data mapping (method 2)"
   ],
   "metadata": {
    "collapsed": false
   }
  },
  {
   "cell_type": "code",
   "execution_count": 18,
   "outputs": [
    {
     "name": "stdout",
     "output_type": "stream",
     "text": [
      "      timestamp  classifier  controller  database  sniffer  cpu_total  class  \\\n",
      "0           0.0     0.02860     0.00574  0.000469  0.84300   0.877809    0.0   \n",
      "1           5.0     0.02860     0.00574  0.000469  0.84300   0.877809    0.0   \n",
      "2          10.0     0.02860     0.00574  0.000469  0.84300   0.877809    0.0   \n",
      "3          15.0     0.02860     0.00574  0.000469  0.84300   0.877809    0.0   \n",
      "4          20.0     0.01420     0.00483  0.000972  0.03900   0.059002    0.0   \n",
      "...         ...         ...         ...       ...      ...        ...    ...   \n",
      "6624    33120.0     0.00832     0.00257  0.000441  0.00489   0.016221    0.0   \n",
      "6625    33125.0     0.00832     0.00257  0.000441  0.00489   0.016221    0.0   \n",
      "6626    33130.0     0.00832     0.00257  0.000441  0.00489   0.016221    0.0   \n",
      "6627    33135.0     0.00832     0.00257  0.000441  0.00489   0.016221    0.0   \n",
      "6628    33140.0     0.01580     0.00215  0.000325  0.00901   0.027285    0.0   \n",
      "\n",
      "      dst_port  protocol  flow_duration  ...  bwd_blk_rate_avg  \\\n",
      "0      44438.0      18.0   1.272316e+06  ...               0.0   \n",
      "1      10259.0       6.0   2.598763e+01  ...               0.0   \n",
      "2        500.0      17.0   0.000000e+00  ...               0.0   \n",
      "3          0.0       0.0   0.000000e+00  ...               0.0   \n",
      "4      10257.0       6.0   3.218651e+01  ...               0.0   \n",
      "...        ...       ...            ...  ...               ...   \n",
      "6624   73146.0      18.0   9.011195e+07  ...               0.0   \n",
      "6625   10259.0       6.0   2.765656e+01  ...               0.0   \n",
      "6626    6443.0       6.0   9.124560e+07  ...               0.0   \n",
      "6627       0.0       0.0   0.000000e+00  ...               0.0   \n",
      "6628     500.0      17.0   0.000000e+00  ...               0.0   \n",
      "\n",
      "      fwd_seg_size_avg  bwd_seg_size_avg  cwe_flag_count  subflow_fwd_pkts  \\\n",
      "0           298.000000        172.666667             0.0               6.0   \n",
      "1            74.000000         54.000000             0.0               1.0   \n",
      "2           542.000000          0.000000             0.0               1.0   \n",
      "3             0.000000          0.000000             0.0               0.0   \n",
      "4            74.000000         54.000000             0.0               1.0   \n",
      "...                ...               ...             ...               ...   \n",
      "6624       1169.916667        537.750000             0.0              14.0   \n",
      "6625         74.000000         54.000000             0.0               1.0   \n",
      "6626         98.500000        165.800000             0.0              12.0   \n",
      "6627          0.000000          0.000000             0.0               0.0   \n",
      "6628        542.000000          0.000000             0.0               1.0   \n",
      "\n",
      "      subflow_bwd_pkts  subflow_fwd_byts  subflow_bwd_byts       cpu  \\\n",
      "0                  8.0             748.0             496.0  2.633427   \n",
      "1                  1.0              74.0              54.0  0.877809   \n",
      "2                  0.0             542.0               0.0  0.877809   \n",
      "3                  0.0               0.0               0.0  0.000000   \n",
      "4                  1.0              74.0              54.0  0.059002   \n",
      "...                ...               ...               ...       ...   \n",
      "6624              14.0           12411.0            5265.0  0.048663   \n",
      "6625               1.0              74.0              54.0  0.016221   \n",
      "6626              10.0            1182.0            1658.0  0.016221   \n",
      "6627               0.0               0.0               0.0  0.000000   \n",
      "6628               0.0             542.0               0.0  0.027285   \n",
      "\n",
      "      num_flows  \n",
      "0           3.0  \n",
      "1           1.0  \n",
      "2           1.0  \n",
      "3           0.0  \n",
      "4           1.0  \n",
      "...         ...  \n",
      "6624        3.0  \n",
      "6625        1.0  \n",
      "6626        1.0  \n",
      "6627        0.0  \n",
      "6628        1.0  \n",
      "\n",
      "[6629 rows x 87 columns]\n"
     ]
    }
   ],
   "source": [
    "df_cpu1 = df_cpu\n",
    "\n",
    "# Function to aggregate flows for each CPU record\n",
    "def aggregate_flows(cpu_row, network_df):\n",
    "    # Get the current and next CPU timestamps\n",
    "    current_timestamp = cpu_row['timestamp']\n",
    "    next_timestamp = df_cpu1.loc[cpu_row.name + 1, 'timestamp'] if cpu_row.name + 1 < len(df_cpu) else pd.Timestamp.max\n",
    "\n",
    "    # Filter flows that fall within the time interval\n",
    "    flows_in_interval = network_df[(network_df['timestamp'] >= current_timestamp) & (network_df['timestamp'] < next_timestamp)]\n",
    "\n",
    "    # Aggregate flow values\n",
    "    aggregated_values = flows_in_interval.drop(columns=['timestamp']).sum()\n",
    "\n",
    "     # Add a column for the number of aggregated flows\n",
    "    aggregated_values['num_flows'] = len(flows_in_interval)\n",
    "\n",
    "    return aggregated_values\n",
    "\n",
    "# Loop over each CPU row\n",
    "for index, cpu_row in df_cpu1.iterrows():\n",
    "    # Aggregate flows for the current CPU row\n",
    "    aggregated_values = aggregate_flows(cpu_row, df_flow)\n",
    "\n",
    "    # Add aggregated flow values to the CPU row\n",
    "    df_cpu1.loc[index, aggregated_values.index] = aggregated_values.values\n",
    "\n",
    "# Fill NaN values with 0\n",
    "df_cpu1.fillna(0, inplace=True)\n",
    "\n",
    "# Convert all timestamps to total seconds from the first timestamp\n",
    "df_cpu1 = df_cpu1.sort_values(by='timestamp')\n",
    "first_timestamp = df_cpu1['timestamp'].iloc[0]\n",
    "df_cpu1['timestamp'] = (df_cpu1['timestamp'] - first_timestamp).dt.total_seconds()\n",
    "\n",
    "# Save flow data\n",
    "df_cpu1.to_csv(save_directory + \"data2.csv\", index=False)\n",
    "\n",
    "# Print the updated CPU dataframe\n",
    "print(df_cpu1)"
   ],
   "metadata": {
    "collapsed": false,
    "ExecuteTime": {
     "end_time": "2024-04-04T02:11:13.042457500Z",
     "start_time": "2024-04-04T02:07:07.838487300Z"
    }
   }
  }
 ],
 "metadata": {
  "kernelspec": {
   "display_name": "Python 3 (ipykernel)",
   "language": "python",
   "name": "python3"
  },
  "language_info": {
   "codemirror_mode": {
    "name": "ipython",
    "version": 3
   },
   "file_extension": ".py",
   "mimetype": "text/x-python",
   "name": "python",
   "nbconvert_exporter": "python",
   "pygments_lexer": "ipython3",
   "version": "3.11.7"
  }
 },
 "nbformat": 4,
 "nbformat_minor": 4
}

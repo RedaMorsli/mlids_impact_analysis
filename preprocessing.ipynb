{
 "cells": [
  {
   "cell_type": "markdown",
   "source": [
    "Setup"
   ],
   "metadata": {
    "collapsed": false
   }
  },
  {
   "cell_type": "code",
   "execution_count": 124,
   "metadata": {
    "ExecuteTime": {
     "end_time": "2024-04-22T20:41:21.008019400Z",
     "start_time": "2024-04-22T20:41:16.648902800Z"
    }
   },
   "outputs": [
    {
     "name": "stdout",
     "output_type": "stream",
     "text": [
      "(311725, 80)\n",
      "class                    2\n",
      "dst_port              6348\n",
      "protocol                 2\n",
      "timestamp            23818\n",
      "flow_duration       100937\n",
      "                     ...  \n",
      "cwe_flag_count           1\n",
      "subflow_fwd_pkts       239\n",
      "subflow_bwd_pkts       236\n",
      "subflow_fwd_byts      6907\n",
      "subflow_bwd_byts      6897\n",
      "Length: 80, dtype: int64\n"
     ]
    }
   ],
   "source": [
    "import pandas as pd\n",
    "\n",
    "# Set data files paths\n",
    "FLOWS_PATH = \"./data/BruteForce/21-03-2024-3h/netflows.csv\"\n",
    "CPU_PATH = \"./data/BruteForce/21-03-2024-3h/CPU Usage-data-as-joinbyfield-2024-03-21 16_17_49.csv\"\n",
    "BW_IN_PATH = \"./data/BruteForce/21-03-2024-3h/Receive Bandwidth-data-2024-03-21 16_40_11.csv\"\n",
    "BW_OUT_PATH = \"./data/BruteForce/21-03-2024-3h/Transmit Bandwidth-data-2024-03-21 16_40_15.csv\"\n",
    "save_directory = \"./output/BruteForce/21-03-2024-3h/\"\n",
    "start_date = '2024-03-21 07:25:49'\n",
    "end_date = '2024-03-21 16:22:10'\n",
    "\n",
    "df_flow = pd.read_csv(FLOWS_PATH)\n",
    "print(df_flow.shape)\n",
    "df_flow.head()\n",
    "print(df_flow.nunique())"
   ]
  },
  {
   "cell_type": "markdown",
   "metadata": {
    "collapsed": false,
    "jupyter": {
     "outputs_hidden": false
    }
   },
   "source": [
    "Time filtering"
   ]
  },
  {
   "cell_type": "code",
   "execution_count": 114,
   "metadata": {
    "collapsed": false,
    "jupyter": {
     "outputs_hidden": false
    },
    "ExecuteTime": {
     "end_time": "2024-04-17T15:45:36.328026900Z",
     "start_time": "2024-04-17T15:45:35.983267400Z"
    }
   },
   "outputs": [
    {
     "name": "stdout",
     "output_type": "stream",
     "text": [
      "(311725, 80)\n",
      "(297682, 80)\n"
     ]
    },
    {
     "name": "stderr",
     "output_type": "stream",
     "text": [
      "C:\\Users\\hr_mo\\AppData\\Local\\Temp\\ipykernel_25508\\2052669154.py:11: FutureWarning: Downcasting behavior in `replace` is deprecated and will be removed in a future version. To retain the old behavior, explicitly call `result.infer_objects(copy=False)`. To opt-in to the future behavior, set `pd.set_option('future.no_silent_downcasting', True)`\n",
      "  df_flow['class'] = df_flow['class'].replace({'[0]': 0, '[1]': 1})\n"
     ]
    },
    {
     "data": {
      "text/plain": "        class  dst_port  protocol           timestamp  flow_duration  \\\n4455        1        22         6 2024-04-17 00:10:11  226410.388947   \n123957      1        22         6 2024-04-17 01:11:53  244192.838669   \n199077      1        22         6 2024-04-17 03:39:39  336343.050003   \n199084      1        22         6 2024-04-17 03:39:39  395783.185959   \n199085      1        22         6 2024-04-17 03:39:40  371340.751648   \n...       ...       ...       ...                 ...            ...   \n295991      1        22         6 2024-04-17 05:10:22  270390.987396   \n295996      1        22         6 2024-04-17 05:10:23  362801.074982   \n295998      1        22         6 2024-04-17 05:10:23  348869.800568   \n296004      1        22         6 2024-04-17 05:10:23  349419.832230   \n296177      1        22         6 2024-04-17 05:15:18  223955.154419   \n\n         flow_byts_s  flow_pkts_s  fwd_pkts_s  bwd_pkts_s  tot_fwd_pkts  ...  \\\n4455      750.848938    13.250275    8.833517    4.416758             2  ...   \n123957    827.215086    12.285373    8.190248    4.095124             2  ...   \n199077  22729.769501   136.765127   68.382564   68.382564            23  ...   \n199084  19437.409857   116.225251   58.112625   58.112625            23  ...   \n199085  20986.115759   129.261332   72.709499   56.551833            27  ...   \n...              ...          ...         ...         ...           ...  ...   \n295991  23891.328858   125.743836   62.871918   62.871918            17  ...   \n295996  13475.704283    99.227931   55.126628   44.101303            20  ...   \n295998  18691.786992   126.121550   63.060775   63.060775            22  ...   \n296004  16659.042971   108.751698   60.099622   48.652075            21  ...   \n296177    741.219823    13.395539    8.930359    4.465180             2  ...   \n\n        bwd_pkts_b_avg  fwd_blk_rate_avg  bwd_blk_rate_avg  fwd_seg_size_avg  \\\n4455               0.0               0.0               0.0         56.000000   \n123957             0.0               0.0               0.0         64.000000   \n199077             0.0               0.0               0.0        150.173913   \n199084             0.0               0.0               0.0        152.260870   \n199085             0.0               0.0               0.0        138.296296   \n...                ...               ...               ...               ...   \n295991             0.0               0.0               0.0        169.058824   \n295996             0.0               0.0               0.0        108.400000   \n295998             0.0               0.0               0.0        153.272727   \n296004             0.0               0.0               0.0        150.571429   \n296177             0.0               0.0               0.0         54.000000   \n\n        bwd_seg_size_avg  cwe_flag_count  subflow_fwd_pkts  subflow_bwd_pkts  \\\n4455           58.000000               0                 2                 1   \n123957         74.000000               0                 2                 1   \n199077        182.217391               0                23                23   \n199084        182.217391               0                23                23   \n199085        193.285714               0                27                21   \n...                  ...             ...               ...               ...   \n295991        210.941176               0                17                17   \n295996        170.062500               0                20                16   \n295998        143.136364               0                22                22   \n296004        156.411765               0                21                17   \n296177         58.000000               0                 2                 1   \n\n        subflow_fwd_byts  subflow_bwd_byts  \n4455                 112                58  \n123957               128                74  \n199077              3454              4191  \n199084              3502              4191  \n199085              3734              4059  \n...                  ...               ...  \n295991              2874              3586  \n295996              2168              2721  \n295998              3372              3149  \n296004              3162              2659  \n296177               108                58  \n\n[13527 rows x 80 columns]",
      "text/html": "<div>\n<style scoped>\n    .dataframe tbody tr th:only-of-type {\n        vertical-align: middle;\n    }\n\n    .dataframe tbody tr th {\n        vertical-align: top;\n    }\n\n    .dataframe thead th {\n        text-align: right;\n    }\n</style>\n<table border=\"1\" class=\"dataframe\">\n  <thead>\n    <tr style=\"text-align: right;\">\n      <th></th>\n      <th>class</th>\n      <th>dst_port</th>\n      <th>protocol</th>\n      <th>timestamp</th>\n      <th>flow_duration</th>\n      <th>flow_byts_s</th>\n      <th>flow_pkts_s</th>\n      <th>fwd_pkts_s</th>\n      <th>bwd_pkts_s</th>\n      <th>tot_fwd_pkts</th>\n      <th>...</th>\n      <th>bwd_pkts_b_avg</th>\n      <th>fwd_blk_rate_avg</th>\n      <th>bwd_blk_rate_avg</th>\n      <th>fwd_seg_size_avg</th>\n      <th>bwd_seg_size_avg</th>\n      <th>cwe_flag_count</th>\n      <th>subflow_fwd_pkts</th>\n      <th>subflow_bwd_pkts</th>\n      <th>subflow_fwd_byts</th>\n      <th>subflow_bwd_byts</th>\n    </tr>\n  </thead>\n  <tbody>\n    <tr>\n      <th>4455</th>\n      <td>1</td>\n      <td>22</td>\n      <td>6</td>\n      <td>2024-04-17 00:10:11</td>\n      <td>226410.388947</td>\n      <td>750.848938</td>\n      <td>13.250275</td>\n      <td>8.833517</td>\n      <td>4.416758</td>\n      <td>2</td>\n      <td>...</td>\n      <td>0.0</td>\n      <td>0.0</td>\n      <td>0.0</td>\n      <td>56.000000</td>\n      <td>58.000000</td>\n      <td>0</td>\n      <td>2</td>\n      <td>1</td>\n      <td>112</td>\n      <td>58</td>\n    </tr>\n    <tr>\n      <th>123957</th>\n      <td>1</td>\n      <td>22</td>\n      <td>6</td>\n      <td>2024-04-17 01:11:53</td>\n      <td>244192.838669</td>\n      <td>827.215086</td>\n      <td>12.285373</td>\n      <td>8.190248</td>\n      <td>4.095124</td>\n      <td>2</td>\n      <td>...</td>\n      <td>0.0</td>\n      <td>0.0</td>\n      <td>0.0</td>\n      <td>64.000000</td>\n      <td>74.000000</td>\n      <td>0</td>\n      <td>2</td>\n      <td>1</td>\n      <td>128</td>\n      <td>74</td>\n    </tr>\n    <tr>\n      <th>199077</th>\n      <td>1</td>\n      <td>22</td>\n      <td>6</td>\n      <td>2024-04-17 03:39:39</td>\n      <td>336343.050003</td>\n      <td>22729.769501</td>\n      <td>136.765127</td>\n      <td>68.382564</td>\n      <td>68.382564</td>\n      <td>23</td>\n      <td>...</td>\n      <td>0.0</td>\n      <td>0.0</td>\n      <td>0.0</td>\n      <td>150.173913</td>\n      <td>182.217391</td>\n      <td>0</td>\n      <td>23</td>\n      <td>23</td>\n      <td>3454</td>\n      <td>4191</td>\n    </tr>\n    <tr>\n      <th>199084</th>\n      <td>1</td>\n      <td>22</td>\n      <td>6</td>\n      <td>2024-04-17 03:39:39</td>\n      <td>395783.185959</td>\n      <td>19437.409857</td>\n      <td>116.225251</td>\n      <td>58.112625</td>\n      <td>58.112625</td>\n      <td>23</td>\n      <td>...</td>\n      <td>0.0</td>\n      <td>0.0</td>\n      <td>0.0</td>\n      <td>152.260870</td>\n      <td>182.217391</td>\n      <td>0</td>\n      <td>23</td>\n      <td>23</td>\n      <td>3502</td>\n      <td>4191</td>\n    </tr>\n    <tr>\n      <th>199085</th>\n      <td>1</td>\n      <td>22</td>\n      <td>6</td>\n      <td>2024-04-17 03:39:40</td>\n      <td>371340.751648</td>\n      <td>20986.115759</td>\n      <td>129.261332</td>\n      <td>72.709499</td>\n      <td>56.551833</td>\n      <td>27</td>\n      <td>...</td>\n      <td>0.0</td>\n      <td>0.0</td>\n      <td>0.0</td>\n      <td>138.296296</td>\n      <td>193.285714</td>\n      <td>0</td>\n      <td>27</td>\n      <td>21</td>\n      <td>3734</td>\n      <td>4059</td>\n    </tr>\n    <tr>\n      <th>...</th>\n      <td>...</td>\n      <td>...</td>\n      <td>...</td>\n      <td>...</td>\n      <td>...</td>\n      <td>...</td>\n      <td>...</td>\n      <td>...</td>\n      <td>...</td>\n      <td>...</td>\n      <td>...</td>\n      <td>...</td>\n      <td>...</td>\n      <td>...</td>\n      <td>...</td>\n      <td>...</td>\n      <td>...</td>\n      <td>...</td>\n      <td>...</td>\n      <td>...</td>\n      <td>...</td>\n    </tr>\n    <tr>\n      <th>295991</th>\n      <td>1</td>\n      <td>22</td>\n      <td>6</td>\n      <td>2024-04-17 05:10:22</td>\n      <td>270390.987396</td>\n      <td>23891.328858</td>\n      <td>125.743836</td>\n      <td>62.871918</td>\n      <td>62.871918</td>\n      <td>17</td>\n      <td>...</td>\n      <td>0.0</td>\n      <td>0.0</td>\n      <td>0.0</td>\n      <td>169.058824</td>\n      <td>210.941176</td>\n      <td>0</td>\n      <td>17</td>\n      <td>17</td>\n      <td>2874</td>\n      <td>3586</td>\n    </tr>\n    <tr>\n      <th>295996</th>\n      <td>1</td>\n      <td>22</td>\n      <td>6</td>\n      <td>2024-04-17 05:10:23</td>\n      <td>362801.074982</td>\n      <td>13475.704283</td>\n      <td>99.227931</td>\n      <td>55.126628</td>\n      <td>44.101303</td>\n      <td>20</td>\n      <td>...</td>\n      <td>0.0</td>\n      <td>0.0</td>\n      <td>0.0</td>\n      <td>108.400000</td>\n      <td>170.062500</td>\n      <td>0</td>\n      <td>20</td>\n      <td>16</td>\n      <td>2168</td>\n      <td>2721</td>\n    </tr>\n    <tr>\n      <th>295998</th>\n      <td>1</td>\n      <td>22</td>\n      <td>6</td>\n      <td>2024-04-17 05:10:23</td>\n      <td>348869.800568</td>\n      <td>18691.786992</td>\n      <td>126.121550</td>\n      <td>63.060775</td>\n      <td>63.060775</td>\n      <td>22</td>\n      <td>...</td>\n      <td>0.0</td>\n      <td>0.0</td>\n      <td>0.0</td>\n      <td>153.272727</td>\n      <td>143.136364</td>\n      <td>0</td>\n      <td>22</td>\n      <td>22</td>\n      <td>3372</td>\n      <td>3149</td>\n    </tr>\n    <tr>\n      <th>296004</th>\n      <td>1</td>\n      <td>22</td>\n      <td>6</td>\n      <td>2024-04-17 05:10:23</td>\n      <td>349419.832230</td>\n      <td>16659.042971</td>\n      <td>108.751698</td>\n      <td>60.099622</td>\n      <td>48.652075</td>\n      <td>21</td>\n      <td>...</td>\n      <td>0.0</td>\n      <td>0.0</td>\n      <td>0.0</td>\n      <td>150.571429</td>\n      <td>156.411765</td>\n      <td>0</td>\n      <td>21</td>\n      <td>17</td>\n      <td>3162</td>\n      <td>2659</td>\n    </tr>\n    <tr>\n      <th>296177</th>\n      <td>1</td>\n      <td>22</td>\n      <td>6</td>\n      <td>2024-04-17 05:15:18</td>\n      <td>223955.154419</td>\n      <td>741.219823</td>\n      <td>13.395539</td>\n      <td>8.930359</td>\n      <td>4.465180</td>\n      <td>2</td>\n      <td>...</td>\n      <td>0.0</td>\n      <td>0.0</td>\n      <td>0.0</td>\n      <td>54.000000</td>\n      <td>58.000000</td>\n      <td>0</td>\n      <td>2</td>\n      <td>1</td>\n      <td>108</td>\n      <td>58</td>\n    </tr>\n  </tbody>\n</table>\n<p>13527 rows × 80 columns</p>\n</div>"
     },
     "execution_count": 114,
     "metadata": {},
     "output_type": "execute_result"
    }
   ],
   "source": [
    "df_flow['timestamp'] = pd.to_datetime(df_flow['timestamp'])\n",
    "\n",
    "print(df_flow.shape)\n",
    "\n",
    "# Filter rows between start_date and end_date\n",
    "df_flow = df_flow[(df_flow['timestamp'] >= start_date) & (df_flow['timestamp'] <= end_date)]\n",
    "\n",
    "print(df_flow.shape)\n",
    "\n",
    "# Replace class values ([0] -> 0 and [1] -> 1)\n",
    "df_flow['class'] = df_flow['class'].replace({'[0]': 0, '[1]': 1})\n",
    "# filtered_df.head()\n",
    "df_flow[df_flow['class']==1]"
   ]
  },
  {
   "cell_type": "code",
   "execution_count": 115,
   "outputs": [],
   "source": [
    "# # Only for brute force data\n",
    "# df_sorted = df_flow.sort_values(by='timestamp')\n",
    "# split_index = len(df_sorted) // 2\n",
    "# df_second_half = df_sorted.iloc[split_index:]\n",
    "# df_second_half.reset_index(drop=True, inplace=True)\n",
    "# df_flow = df_second_half"
   ],
   "metadata": {
    "collapsed": false,
    "ExecuteTime": {
     "end_time": "2024-04-17T15:45:36.374496Z",
     "start_time": "2024-04-17T15:45:36.332605700Z"
    }
   }
  },
  {
   "cell_type": "code",
   "execution_count": 116,
   "metadata": {
    "collapsed": false,
    "jupyter": {
     "outputs_hidden": false
    },
    "ExecuteTime": {
     "end_time": "2024-04-17T15:45:55.152860500Z",
     "start_time": "2024-04-17T15:45:36.346307300Z"
    }
   },
   "outputs": [],
   "source": [
    "# Save flow data\n",
    "df_flow.to_csv(save_directory + \"flows.csv\", index=False)"
   ]
  },
  {
   "cell_type": "markdown",
   "source": [
    "Column filtering"
   ],
   "metadata": {
    "collapsed": false
   }
  },
  {
   "cell_type": "code",
   "execution_count": 117,
   "outputs": [],
   "source": [
    "# df_flow = df_flow.get([\"timestamp\", \"class\", \"flow_duration\", \"flow_byts_s\", \"flow_pkts_s\", \"tot_fwd_pkts\", \"tot_bwd_pkts\", \"totlen_fwd_pkts\", \"totlen_bwd_pkts\"])\n",
    "# print(df_flow.shape)\n",
    "# df_flow.head()"
   ],
   "metadata": {
    "collapsed": false,
    "ExecuteTime": {
     "end_time": "2024-04-17T15:45:55.167845900Z",
     "start_time": "2024-04-17T15:45:55.158889600Z"
    }
   }
  },
  {
   "cell_type": "markdown",
   "metadata": {
    "collapsed": false,
    "jupyter": {
     "outputs_hidden": false
    }
   },
   "source": [
    "Prepare resource data"
   ]
  },
  {
   "cell_type": "code",
   "execution_count": 118,
   "metadata": {
    "collapsed": false,
    "jupyter": {
     "outputs_hidden": false
    },
    "ExecuteTime": {
     "end_time": "2024-04-17T15:45:55.231851Z",
     "start_time": "2024-04-17T15:45:55.170847Z"
    }
   },
   "outputs": [
    {
     "data": {
      "text/plain": "             timestamp  classifier  controller  database  sniffer  cpu_total\n0  2024-04-16 22:08:20      0.0133     0.00369  0.000389   0.0126   0.029979\n1  2024-04-16 22:08:25      0.0133     0.00369  0.000389   0.0126   0.029979\n2  2024-04-16 22:08:30      0.0348     0.00478  0.000705   0.0163   0.056585\n3  2024-04-16 22:08:35      0.0348     0.00478  0.000705   0.0163   0.056585\n4  2024-04-16 22:08:40      0.0348     0.00478  0.000705   0.0163   0.056585",
      "text/html": "<div>\n<style scoped>\n    .dataframe tbody tr th:only-of-type {\n        vertical-align: middle;\n    }\n\n    .dataframe tbody tr th {\n        vertical-align: top;\n    }\n\n    .dataframe thead th {\n        text-align: right;\n    }\n</style>\n<table border=\"1\" class=\"dataframe\">\n  <thead>\n    <tr style=\"text-align: right;\">\n      <th></th>\n      <th>timestamp</th>\n      <th>classifier</th>\n      <th>controller</th>\n      <th>database</th>\n      <th>sniffer</th>\n      <th>cpu_total</th>\n    </tr>\n  </thead>\n  <tbody>\n    <tr>\n      <th>0</th>\n      <td>2024-04-16 22:08:20</td>\n      <td>0.0133</td>\n      <td>0.00369</td>\n      <td>0.000389</td>\n      <td>0.0126</td>\n      <td>0.029979</td>\n    </tr>\n    <tr>\n      <th>1</th>\n      <td>2024-04-16 22:08:25</td>\n      <td>0.0133</td>\n      <td>0.00369</td>\n      <td>0.000389</td>\n      <td>0.0126</td>\n      <td>0.029979</td>\n    </tr>\n    <tr>\n      <th>2</th>\n      <td>2024-04-16 22:08:30</td>\n      <td>0.0348</td>\n      <td>0.00478</td>\n      <td>0.000705</td>\n      <td>0.0163</td>\n      <td>0.056585</td>\n    </tr>\n    <tr>\n      <th>3</th>\n      <td>2024-04-16 22:08:35</td>\n      <td>0.0348</td>\n      <td>0.00478</td>\n      <td>0.000705</td>\n      <td>0.0163</td>\n      <td>0.056585</td>\n    </tr>\n    <tr>\n      <th>4</th>\n      <td>2024-04-16 22:08:40</td>\n      <td>0.0348</td>\n      <td>0.00478</td>\n      <td>0.000705</td>\n      <td>0.0163</td>\n      <td>0.056585</td>\n    </tr>\n  </tbody>\n</table>\n</div>"
     },
     "execution_count": 118,
     "metadata": {},
     "output_type": "execute_result"
    }
   ],
   "source": [
    "df_cpu = pd.read_csv(CPU_PATH)\n",
    "df_cpu = df_cpu.rename(columns={'Time': 'timestamp'})\n",
    "df_cpu = df_cpu.drop(\"Value 1\", axis=1)\n",
    "# Merge CPU values by sum\n",
    "df_cpu[\"cpu_total\"] = df_cpu.drop(\"timestamp\", axis=1).sum(axis=1)\n",
    "df_cpu.head()\n",
    "# Save CPU data\n",
    "df_cpu.to_csv(save_directory + \"cpu.csv\", index=False)"
   ]
  },
  {
   "cell_type": "code",
   "execution_count": 120,
   "outputs": [],
   "source": [
    "df_bw_in = pd.read_csv(BW_IN_PATH)\n",
    "df_bw_in = df_bw_in.rename(columns={'Time': 'timestamp'})\n",
    "df_bw_in.head()\n",
    "df_bw_in.to_csv(save_directory + \"bw_in.csv\", index=False)"
   ],
   "metadata": {
    "collapsed": false,
    "ExecuteTime": {
     "end_time": "2024-04-17T15:45:55.372960900Z",
     "start_time": "2024-04-17T15:45:55.250847500Z"
    }
   }
  },
  {
   "cell_type": "code",
   "execution_count": null,
   "outputs": [],
   "source": [
    "df_bw_out = pd.read_csv(BW_OUT_PATH)\n",
    "df_bw_out = df_bw_out.rename(columns={'Time': 'timestamp'})\n",
    "df_bw_out.head()\n",
    "df_bw_out.to_csv(save_directory + \"bw_in.csv\", index=False)"
   ],
   "metadata": {
    "collapsed": false
   }
  },
  {
   "cell_type": "markdown",
   "source": [
    "Convert timestamp columns to datetime objects"
   ],
   "metadata": {
    "collapsed": false
   }
  },
  {
   "cell_type": "code",
   "execution_count": 121,
   "outputs": [],
   "source": [
    "df_cpu['timestamp'] = pd.to_datetime(df_cpu['timestamp'])\n",
    "df_flow['timestamp'] = pd.to_datetime(df_flow['timestamp'])"
   ],
   "metadata": {
    "collapsed": false,
    "ExecuteTime": {
     "end_time": "2024-04-17T15:45:55.413961700Z",
     "start_time": "2024-04-17T15:45:55.317858600Z"
    }
   }
  },
  {
   "cell_type": "markdown",
   "metadata": {
    "collapsed": false,
    "jupyter": {
     "outputs_hidden": false
    }
   },
   "source": [
    "Data mapping (method 1)"
   ]
  },
  {
   "cell_type": "code",
   "execution_count": 122,
   "metadata": {
    "collapsed": false,
    "jupyter": {
     "outputs_hidden": false
    },
    "ExecuteTime": {
     "end_time": "2024-04-17T15:51:04.041894400Z",
     "start_time": "2024-04-17T15:45:55.376968700Z"
    }
   },
   "outputs": [
    {
     "name": "stdout",
     "output_type": "stream",
     "text": [
      "        class  dst_port  protocol  timestamp  flow_duration   flow_byts_s  \\\n",
      "831         0      9984         6        0.0   1.840872e+07  9.404239e+02   \n",
      "854         0     30000         6       16.0   1.000914e+08  1.126970e+01   \n",
      "830         0      2381         6       18.0   2.646446e+01  4.836675e+06   \n",
      "837         0     50980         6       23.0   3.700256e+02  8.188622e+05   \n",
      "839         0      6443         6       23.0   5.855799e+03  1.156290e+06   \n",
      "...       ...       ...       ...        ...            ...           ...   \n",
      "265366      0       443         6    32161.0   1.081944e+03  1.830040e+05   \n",
      "265377      0       443         6    32161.0   1.070261e+03  1.850016e+05   \n",
      "299010      0      6443         6    32165.0   9.083053e+07  1.336258e+03   \n",
      "298990      0      2381         6    32178.0   2.336502e+01  5.478275e+06   \n",
      "298991      0        67        17    32181.0   0.000000e+00  0.000000e+00   \n",
      "\n",
      "         flow_pkts_s    fwd_pkts_s    bwd_pkts_s  tot_fwd_pkts  ...  \\\n",
      "831         8.691533      4.671699      4.019834            86  ...   \n",
      "854         0.199817      0.079927      0.119890             8  ...   \n",
      "830     75573.045045  37786.522523  37786.522523             1  ...   \n",
      "837     10810.061856   5405.030928   5405.030928             2  ...   \n",
      "839      2220.021660   1195.396279   1024.625382             7  ...   \n",
      "...              ...           ...           ...           ...  ...   \n",
      "265366   2772.788012   1848.525342    924.262671             2  ...   \n",
      "265377   2803.054578   1868.703052    934.351526             2  ...   \n",
      "299010      4.657025      2.334017      2.323008           212  ...   \n",
      "298990  85598.040816  42799.020408  42799.020408             1  ...   \n",
      "298991      0.000000      0.000000      0.000000             1  ...   \n",
      "\n",
      "        fwd_blk_rate_avg  bwd_blk_rate_avg  fwd_seg_size_avg  \\\n",
      "831        419914.592963          0.000000        138.465116   \n",
      "854             0.000000          0.000000         58.000000   \n",
      "830             0.000000          0.000000         74.000000   \n",
      "837             0.000000          0.000000         91.500000   \n",
      "839             0.000000          0.000000        352.285714   \n",
      "...                  ...               ...               ...   \n",
      "265366          0.000000          0.000000         66.000000   \n",
      "265377          0.000000          0.000000         66.000000   \n",
      "299010          0.000000       1409.448848         80.193396   \n",
      "298990          0.000000          0.000000         74.000000   \n",
      "298991          0.000000          0.000000        342.000000   \n",
      "\n",
      "        bwd_seg_size_avg  cwe_flag_count  subflow_fwd_pkts  subflow_bwd_pkts  \\\n",
      "831            73.027027               0                86                74   \n",
      "854            55.333333               0                 8                12   \n",
      "830            54.000000               0                 1                 1   \n",
      "837            60.000000               0                 2                 2   \n",
      "839           717.500000               0                 7                 6   \n",
      "...                  ...             ...               ...               ...   \n",
      "265366         66.000000               0                 2                 1   \n",
      "265377         66.000000               0                 2                 1   \n",
      "299010        494.654028               0               212               211   \n",
      "298990         54.000000               0                 1                 1   \n",
      "298991          0.000000               0                 1                 0   \n",
      "\n",
      "        subflow_fwd_byts  subflow_bwd_byts       cpu  \n",
      "831                11908              5404  0.029979  \n",
      "854                  464               664  0.056585  \n",
      "830                   74                54  0.056585  \n",
      "837                  183               120  0.056585  \n",
      "839                 2466              4305  0.056585  \n",
      "...                  ...               ...       ...  \n",
      "265366               132                66  0.021262  \n",
      "265377               132                66  0.021262  \n",
      "299010             17001            104372  0.049837  \n",
      "298990                74                54  0.049837  \n",
      "298991               342                 0  0.049837  \n",
      "\n",
      "[297682 rows x 81 columns]\n"
     ]
    }
   ],
   "source": [
    "df_flow1 = df_flow\n",
    "\n",
    "# Create a new column in the network dataframe to store associated cpu records\n",
    "df_flow1['cpu'] = None\n",
    "\n",
    "# Loop over each flow row\n",
    "for index, flow_row in df_flow1.iterrows():\n",
    "    # Find the nearest cpu record according to time\n",
    "    nearest_cpu_record = df_cpu.iloc[(df_cpu['timestamp'] - flow_row['timestamp']).abs().argsort()[0]]\n",
    "\n",
    "    # Assign the nearest cpu record to the current flow row\n",
    "    df_flow1.at[index, 'cpu'] = nearest_cpu_record['cpu_total']\n",
    "\n",
    "# Convert all timestamps to total seconds from the first timestamp\n",
    "df_flow1 = df_flow1.sort_values(by='timestamp')\n",
    "first_timestamp = df_flow1['timestamp'].iloc[0]\n",
    "df_flow1['timestamp'] = (df_flow1['timestamp'] - first_timestamp).dt.total_seconds()\n",
    "\n",
    "# Save flow data\n",
    "df_flow1.to_csv(save_directory + \"data1.csv\", index=False)\n",
    "\n",
    "# Print the updated network dataframe with associated cpu records\n",
    "print(df_flow1)"
   ]
  },
  {
   "cell_type": "markdown",
   "source": [
    "Data mapping (method 2)"
   ],
   "metadata": {
    "collapsed": false
   }
  },
  {
   "cell_type": "code",
   "execution_count": 123,
   "outputs": [
    {
     "name": "stdout",
     "output_type": "stream",
     "text": [
      "      timestamp  classifier  controller  database  sniffer  cpu_total  class  \\\n",
      "0           0.0      0.0133     0.00369  0.000389  0.01260   0.029979    0.0   \n",
      "1           5.0      0.0133     0.00369  0.000389  0.01260   0.029979    0.0   \n",
      "2          10.0      0.0348     0.00478  0.000705  0.01630   0.056585    0.0   \n",
      "3          15.0      0.0348     0.00478  0.000705  0.01630   0.056585    0.0   \n",
      "4          20.0      0.0348     0.00478  0.000705  0.01630   0.056585    0.0   \n",
      "...         ...         ...         ...       ...      ...        ...    ...   \n",
      "6433    32165.0      0.0121     0.00224  0.000362  0.00656   0.021262    0.0   \n",
      "6434    32170.0      0.0340     0.00599  0.000507  0.00934   0.049837    0.0   \n",
      "6435    32175.0      0.0340     0.00599  0.000507  0.00934   0.049837    0.0   \n",
      "6436    32180.0      0.0340     0.00599  0.000507  0.00934   0.049837    0.0   \n",
      "6437    32185.0      0.0340     0.00599  0.000507  0.00934   0.049837    0.0   \n",
      "\n",
      "      flow_duration   flow_byts_s   flow_pkts_s  ...  bwd_blk_rate_avg  \\\n",
      "0      0.000000e+00  0.000000e+00      0.000000  ...          0.000000   \n",
      "1      1.840872e+07  9.404239e+02      8.691533  ...          0.000000   \n",
      "2      0.000000e+00  0.000000e+00      0.000000  ...          0.000000   \n",
      "3      0.000000e+00  0.000000e+00      0.000000  ...          0.000000   \n",
      "4      5.004569e+07  2.418343e+06  37786.622431  ...          0.000000   \n",
      "...             ...           ...           ...  ...               ...   \n",
      "6433   1.076102e+03  1.840028e+05   2787.921295  ...          0.000000   \n",
      "6434   9.083053e+07  1.336258e+03      4.657025  ...       1409.448848   \n",
      "6435   0.000000e+00  0.000000e+00      0.000000  ...          0.000000   \n",
      "6436   2.336502e+01  5.478275e+06  85598.040816  ...          0.000000   \n",
      "6437   0.000000e+00  0.000000e+00      0.000000  ...          0.000000   \n",
      "\n",
      "      fwd_seg_size_avg  bwd_seg_size_avg  cwe_flag_count  subflow_fwd_pkts  \\\n",
      "0             0.000000          0.000000             0.0               0.0   \n",
      "1           138.465116         73.027027             0.0              86.0   \n",
      "2             0.000000          0.000000             0.0               0.0   \n",
      "3             0.000000          0.000000             0.0               0.0   \n",
      "4            66.000000         54.666667             0.0               4.5   \n",
      "...                ...               ...             ...               ...   \n",
      "6433         66.000000         66.000000             0.0               2.0   \n",
      "6434         80.193396        494.654028             0.0             212.0   \n",
      "6435          0.000000          0.000000             0.0               0.0   \n",
      "6436         74.000000         54.000000             0.0               1.0   \n",
      "6437        342.000000          0.000000             0.0               1.0   \n",
      "\n",
      "      subflow_bwd_pkts  subflow_fwd_byts  subflow_bwd_byts       cpu  \\\n",
      "0                  0.0               0.0               0.0  0.000000   \n",
      "1                 74.0           11908.0            5404.0  0.029979   \n",
      "2                  0.0               0.0               0.0  0.000000   \n",
      "3                  0.0               0.0               0.0  0.000000   \n",
      "4                  6.5             269.0             359.0  0.056585   \n",
      "...                ...               ...               ...       ...   \n",
      "6433               1.0             132.0              66.0  0.021262   \n",
      "6434             211.0           17001.0          104372.0  0.049837   \n",
      "6435               0.0               0.0               0.0  0.000000   \n",
      "6436               1.0              74.0              54.0  0.049837   \n",
      "6437               0.0             342.0               0.0  0.049837   \n",
      "\n",
      "      num_flows  \n",
      "0           0.0  \n",
      "1           1.0  \n",
      "2           0.0  \n",
      "3           0.0  \n",
      "4           2.0  \n",
      "...         ...  \n",
      "6433        2.0  \n",
      "6434        1.0  \n",
      "6435        0.0  \n",
      "6436        1.0  \n",
      "6437        1.0  \n",
      "\n",
      "[6438 rows x 85 columns]\n"
     ]
    }
   ],
   "source": [
    "df_cpu1 = df_cpu\n",
    "\n",
    "# Function to aggregate flows for each CPU record\n",
    "def aggregate_flows(cpu_row, network_df):\n",
    "    # Get the current and next CPU timestamps\n",
    "    current_timestamp = cpu_row['timestamp']\n",
    "    next_timestamp = df_cpu1.loc[cpu_row.name + 1, 'timestamp'] if cpu_row.name + 1 < len(df_cpu) else pd.Timestamp.max\n",
    "\n",
    "    # Filter flows that fall within the time interval\n",
    "    flows_in_interval = network_df[(network_df['timestamp'] >= current_timestamp) & (network_df['timestamp'] < next_timestamp)]\n",
    "\n",
    "    # Aggregate flow values\n",
    "    row = flows_in_interval.drop(['timestamp', 'protocol', 'dst_port'], axis=1).sum()\n",
    "\n",
    "     # Add a column for the number of aggregated flows\n",
    "    row['num_flows'] = len(flows_in_interval)\n",
    "\n",
    "    if len(flows_in_interval) != 0:\n",
    "        features = row.index[(row.index != 'num_flows') & (row.index != 'class')]\n",
    "        row[features] = row[features] / row['num_flows']\n",
    "\n",
    "    return row\n",
    "\n",
    "# Loop over each CPU row\n",
    "for index, cpu_row in df_cpu1.iterrows():\n",
    "    # Aggregate flows for the current CPU row\n",
    "    aggregated_values = aggregate_flows(cpu_row, df_flow)\n",
    "\n",
    "    # Add aggregated flow values to the CPU row\n",
    "    df_cpu1.loc[index, aggregated_values.index] = aggregated_values.values\n",
    "\n",
    "# Fill NaN values with 0\n",
    "df_cpu1.fillna(0, inplace=True)\n",
    "\n",
    "# Convert all timestamps to total seconds from the first timestamp\n",
    "df_cpu1 = df_cpu1.sort_values(by='timestamp')\n",
    "first_timestamp = df_cpu1['timestamp'].iloc[0]\n",
    "df_cpu1['timestamp'] = (df_cpu1['timestamp'] - first_timestamp).dt.total_seconds()\n",
    "\n",
    "# Save flow data\n",
    "df_cpu1.to_csv(save_directory + \"data2.csv\", index=False)\n",
    "\n",
    "# Print the updated CPU dataframe\n",
    "print(df_cpu1)"
   ],
   "metadata": {
    "collapsed": false,
    "ExecuteTime": {
     "end_time": "2024-04-17T15:54:19.982439200Z",
     "start_time": "2024-04-17T15:51:04.044934700Z"
    }
   }
  },
  {
   "cell_type": "code",
   "execution_count": 123,
   "outputs": [],
   "source": [],
   "metadata": {
    "collapsed": false,
    "ExecuteTime": {
     "end_time": "2024-04-17T15:54:19.996423900Z",
     "start_time": "2024-04-17T15:54:19.983426800Z"
    }
   }
  }
 ],
 "metadata": {
  "kernelspec": {
   "display_name": "Python 3 (ipykernel)",
   "language": "python",
   "name": "python3"
  },
  "language_info": {
   "codemirror_mode": {
    "name": "ipython",
    "version": 3
   },
   "file_extension": ".py",
   "mimetype": "text/x-python",
   "name": "python",
   "nbconvert_exporter": "python",
   "pygments_lexer": "ipython3",
   "version": "3.11.7"
  }
 },
 "nbformat": 4,
 "nbformat_minor": 4
}

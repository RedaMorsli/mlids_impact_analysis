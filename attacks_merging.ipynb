{
 "cells": [
  {
   "cell_type": "code",
   "execution_count": 2,
   "metadata": {
    "collapsed": true,
    "ExecuteTime": {
     "end_time": "2024-03-28T18:37:23.298861200Z",
     "start_time": "2024-03-28T18:37:22.474795400Z"
    }
   },
   "outputs": [
    {
     "name": "stdout",
     "output_type": "stream",
     "text": [
      "Merged dataset saved successfully.\n"
     ]
    }
   ],
   "source": [
    "import pandas as pd\n",
    "\n",
    "# Assuming you have four datasets named dataset1.csv, dataset2.csv, dataset3.csv, and dataset4.csv\n",
    "# Load datasets into pandas dataframes\n",
    "df1 = pd.read_csv('./output/BruteForce/data2.csv')\n",
    "df2 = pd.read_csv('./output/DDOS/data2.csv')\n",
    "df3 = pd.read_csv('./output/DOS/15-02/data2.csv')\n",
    "df4 = pd.read_csv('./output/DOS/16-02/data2.csv')\n",
    "\n",
    "# Add a new column indicating the source dataset\n",
    "df1['attack_type'] = 1\n",
    "df2['attack_type'] = 2\n",
    "df3['attack_type'] = 3\n",
    "df4['attack_type'] = 4\n",
    "\n",
    "# Concatenate all dataframes into one\n",
    "merged_df = pd.concat([df1, df2, df3, df4])\n",
    "\n",
    "# Keep only rows where the \"class\" label is set to 1\n",
    "merged_df = merged_df[merged_df['class'] > 0]\n",
    "\n",
    "# Reset index\n",
    "merged_df.reset_index(drop=True, inplace=True)\n",
    "\n",
    "# Save the merged dataframe to a new CSV file\n",
    "merged_df.to_csv('./output/merged_attack_dataset.csv', index=False)\n",
    "\n",
    "print(\"Merged dataset saved successfully.\")"
   ]
  },
  {
   "cell_type": "code",
   "execution_count": null,
   "outputs": [],
   "source": [],
   "metadata": {
    "collapsed": false
   }
  }
 ],
 "metadata": {
  "kernelspec": {
   "display_name": "Python 3",
   "language": "python",
   "name": "python3"
  },
  "language_info": {
   "codemirror_mode": {
    "name": "ipython",
    "version": 2
   },
   "file_extension": ".py",
   "mimetype": "text/x-python",
   "name": "python",
   "nbconvert_exporter": "python",
   "pygments_lexer": "ipython2",
   "version": "2.7.6"
  }
 },
 "nbformat": 4,
 "nbformat_minor": 0
}

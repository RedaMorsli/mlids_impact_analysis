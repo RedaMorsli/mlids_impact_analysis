{
 "cells": [
  {
   "cell_type": "markdown",
   "source": [
    "Method 1"
   ],
   "metadata": {
    "collapsed": false
   }
  },
  {
   "cell_type": "code",
   "execution_count": 1,
   "metadata": {
    "collapsed": true,
    "ExecuteTime": {
     "end_time": "2024-04-06T04:08:04.051927600Z",
     "start_time": "2024-04-06T04:07:25.317197800Z"
    }
   },
   "outputs": [
    {
     "name": "stderr",
     "output_type": "stream",
     "text": [
      "C:\\Users\\hr_mo\\AppData\\Local\\Temp\\ipykernel_17540\\603963343.py:30: SettingWithCopyWarning: \n",
      "A value is trying to be set on a copy of a slice from a DataFrame\n",
      "\n",
      "See the caveats in the documentation: https://pandas.pydata.org/pandas-docs/stable/user_guide/indexing.html#returning-a-view-versus-a-copy\n",
      "  attack_df.drop(columns=single_value_cols, inplace=True)\n"
     ]
    },
    {
     "name": "stdout",
     "output_type": "stream",
     "text": [
      "Merged dataset saved successfully.\n",
      "(533226, 71)\n",
      "(42900, 70)\n",
      "class                    2\n",
      "dst_port             19661\n",
      "protocol                 2\n",
      "timestamp            27146\n",
      "flow_duration       229623\n",
      "                     ...  \n",
      "subflow_bwd_pkts       237\n",
      "subflow_fwd_byts     13239\n",
      "subflow_bwd_byts     13273\n",
      "cpu                   4237\n",
      "attack_type              5\n",
      "Length: 71, dtype: int64\n"
     ]
    }
   ],
   "source": [
    "import pandas as pd\n",
    "\n",
    "df_bf = pd.read_csv('./output/BruteForce/data1.csv')\n",
    "df_ddos = pd.read_csv('./output/DDOS/data1.csv')\n",
    "df_dos1 = pd.read_csv('./output/DOS/16-02/data1.csv')\n",
    "df_dos2 = pd.read_csv('./output/DOS/15-02/data1.csv')\n",
    "df_web = pd.read_csv('./output/SQLI-BFXSS/data1.csv')\n",
    "\n",
    "# Add a new column indicating the source dataset\n",
    "df_bf['attack_type'] = 1\n",
    "df_ddos['attack_type'] = 2\n",
    "df_dos1['attack_type'] = 3\n",
    "df_dos2['attack_type'] = 3\n",
    "df_web['attack_type'] = 4\n",
    "\n",
    "# Concatenate all dataframes into one\n",
    "merged_df = pd.concat([df_bf, df_ddos, df_dos1, df_dos2, df_web])\n",
    "merged_df.loc[merged_df['class'] == 0, 'attack_type'] = 0\n",
    "\n",
    "# Keep only rows where the \"class\" label is set to 1\n",
    "attack_df = merged_df[merged_df['class'] > 0]\n",
    "\n",
    "# Reset index\n",
    "merged_df.reset_index(drop=True, inplace=True)\n",
    "\n",
    "# Removing single col values\n",
    "single_value_cols = [col for col in merged_df.columns if merged_df[col].nunique()<2]\n",
    "merged_df.drop(columns=single_value_cols, inplace=True)\n",
    "single_value_cols = [col for col in attack_df.columns if attack_df[col].nunique()<2]\n",
    "attack_df.drop(columns=single_value_cols, inplace=True)\n",
    "\n",
    "# Save the merged dataframe to a new CSV file\n",
    "merged_df.to_csv('./output/merged_dataset_method1.csv', index=False)\n",
    "attack_df.to_csv('./output/merged_attack_dataset_method1.csv', index=False)\n",
    "\n",
    "print(\"Merged dataset saved successfully.\")\n",
    "print(merged_df.shape)\n",
    "print(attack_df.shape)\n",
    "# Set display options to show all columns\n",
    "pd.set_option('display.max_columns', None)\n",
    "print(merged_df.nunique())"
   ]
  },
  {
   "cell_type": "markdown",
   "source": [
    "Method 2"
   ],
   "metadata": {
    "collapsed": false
   }
  },
  {
   "cell_type": "code",
   "execution_count": 13,
   "outputs": [
    {
     "name": "stdout",
     "output_type": "stream",
     "text": [
      "Merged dataset saved successfully.\n",
      "(38462, 88)\n",
      "(2356, 88)\n"
     ]
    }
   ],
   "source": [
    "df_bf = pd.read_csv('./output/BruteForce/data2.csv')\n",
    "df_ddos = pd.read_csv('./output/DDOS/data2.csv')\n",
    "df_dos1 = pd.read_csv('./output/DOS/16-02/data2.csv')\n",
    "df_dos2 = pd.read_csv('./output/DOS/15-02/data2.csv')\n",
    "df_web = pd.read_csv('./output/SQLI-BFXSS/data2.csv')\n",
    "\n",
    "# Add a new column indicating the source dataset\n",
    "df_bf['attack_type'] = 1\n",
    "df_ddos['attack_type'] = 2\n",
    "df_dos1['attack_type'] = 3\n",
    "df_dos2['attack_type'] = 3\n",
    "df_web['attack_type'] = 4\n",
    "\n",
    "# Concatenate all dataframes into one\n",
    "merged_df = pd.concat([df_bf, df_ddos, df_dos1, df_dos2, df_web])\n",
    "merged_df.loc[merged_df['class'] == 0, 'attack_type'] = 0\n",
    "\n",
    "# Keep only rows where the \"class\" label is set to 1\n",
    "attack_df = merged_df[merged_df['class'] > 0]\n",
    "\n",
    "# Reset index\n",
    "merged_df.reset_index(drop=True, inplace=True)\n",
    "\n",
    "# Save the merged dataframe to a new CSV file\n",
    "merged_df.to_csv('./output/merged_dataset_method2.csv', index=False)\n",
    "attack_df.to_csv('./output/merged_attack_dataset_method2.csv', index=False)\n",
    "\n",
    "print(\"Merged dataset saved successfully.\")\n",
    "print(merged_df.shape)\n",
    "print(attack_df.shape)"
   ],
   "metadata": {
    "collapsed": false,
    "ExecuteTime": {
     "end_time": "2024-04-04T05:22:58.634342700Z",
     "start_time": "2024-04-04T05:22:54.477917500Z"
    }
   }
  }
 ],
 "metadata": {
  "kernelspec": {
   "display_name": "Python 3",
   "language": "python",
   "name": "python3"
  },
  "language_info": {
   "codemirror_mode": {
    "name": "ipython",
    "version": 2
   },
   "file_extension": ".py",
   "mimetype": "text/x-python",
   "name": "python",
   "nbconvert_exporter": "python",
   "pygments_lexer": "ipython2",
   "version": "2.7.6"
  }
 },
 "nbformat": 4,
 "nbformat_minor": 0
}

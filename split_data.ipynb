{
 "cells": [
  {
   "cell_type": "code",
   "execution_count": 7,
   "metadata": {
    "collapsed": true,
    "ExecuteTime": {
     "end_time": "2024-04-17T17:04:59.872728600Z",
     "start_time": "2024-04-17T17:04:49.603193700Z"
    }
   },
   "outputs": [
    {
     "name": "stdout",
     "output_type": "stream",
     "text": [
      "Original data 1 size : (215155, 81)\n",
      "Original data 1 size : (107578, 81)\n",
      "Original data 2 size : (6438, 85)\n",
      "Original data 2 size : (3219, 85)\n"
     ]
    }
   ],
   "source": [
    "import pandas as pd\n",
    "\n",
    "df1 = pd.read_csv('./output/BruteForce/21-03-2024-3h/data1.csv')\n",
    "df2 = pd.read_csv('./output/BruteForce/21-03-2024-3h/data2.csv')\n",
    "save_directory = \"./output/BruteForce/21-03-2024-3h/\"\n",
    "\n",
    "for index, df in enumerate([df1, df2]):\n",
    "    print(\"Original data \" + str(index + 1) + \" size : \" + str(df.shape))\n",
    "    df_sorted = df.sort_values(by='timestamp')\n",
    "    split_index = len(df_sorted) // 2\n",
    "    df_second_half = df_sorted.iloc[split_index:]\n",
    "    df_second_half.reset_index(drop=True, inplace=True)\n",
    "    df_second_half.to_csv(save_directory + \"data\" + str(index + 1) + \"_splitted.csv\", index=False)\n",
    "    print(\"Original data \" + str(index + 1) + \" size : \" + str(df_second_half.shape))"
   ]
  },
  {
   "cell_type": "code",
   "execution_count": null,
   "outputs": [],
   "source": [],
   "metadata": {
    "collapsed": false
   }
  }
 ],
 "metadata": {
  "kernelspec": {
   "display_name": "Python 3",
   "language": "python",
   "name": "python3"
  },
  "language_info": {
   "codemirror_mode": {
    "name": "ipython",
    "version": 2
   },
   "file_extension": ".py",
   "mimetype": "text/x-python",
   "name": "python",
   "nbconvert_exporter": "python",
   "pygments_lexer": "ipython2",
   "version": "2.7.6"
  }
 },
 "nbformat": 4,
 "nbformat_minor": 0
}
